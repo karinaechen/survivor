{
 "cells": [
  {
   "cell_type": "markdown",
   "id": "e8121619",
   "metadata": {},
   "source": [
    "# Analysis of Survivor Winners\n",
    "\n",
    "**Karina Chen**"
   ]
  },
  {
   "cell_type": "markdown",
   "id": "68bc1418",
   "metadata": {},
   "source": [
    "Question: To what extent can we predict the winner of a season of Survivor based on their demographics (race, gender, age, mbti, etc)? Can we predict which contestant (out of the final two/three) will win based on voting patterns (how many times they were voted against, how many times they voted for the person that actually went home) and possession of advantages (immunity idol, extra vote, winning reward, etc)?"
   ]
  },
  {
   "cell_type": "code",
   "execution_count": 1,
   "id": "087b8ddb",
   "metadata": {},
   "outputs": [],
   "source": [
    "import matplotlib.pyplot as plt\n",
    "import numpy as np\n",
    "import os\n",
    "import pandas as pd\n",
    "import seaborn as sns\n",
    "%config InlineBackend.figure_format = 'retina'  # Higher resolution figures"
   ]
  },
  {
   "cell_type": "code",
   "execution_count": 84,
   "id": "e6a82c92",
   "metadata": {},
   "outputs": [],
   "source": [
    "from sklearn.model_selection import train_test_split, cross_val_score, GridSearchCV, cross_validate\n",
    "from sklearn.compose import ColumnTransformer\n",
    "from sklearn.preprocessing import OneHotEncoder, StandardScaler, FunctionTransformer\n",
    "from sklearn.pipeline import Pipeline\n",
    "from sklearn.tree import DecisionTreeClassifier, plot_tree\n",
    "from sklearn.metrics import accuracy_score\n",
    "from sklearn.svm import SVC\n",
    "from sklearn.naive_bayes import BernoulliNB\n",
    "from sklearn.neural_network import MLPClassifier\n",
    "from sklearn.neighbors import KNeighborsClassifier\n",
    "from sklearn.ensemble import RandomForestClassifier\n",
    "from sklearn.metrics import make_scorer, recall_score, matthews_corrcoef\n",
    "from sklearn.linear_model import LogisticRegression"
   ]
  },
  {
   "cell_type": "markdown",
   "id": "9519e6d2",
   "metadata": {},
   "source": [
    "**Data**"
   ]
  },
  {
   "cell_type": "code",
   "execution_count": 3,
   "id": "685b3626",
   "metadata": {},
   "outputs": [],
   "source": [
    "advantage_details = pd.read_csv('data/advantage_details.csv')\n",
    "advantage_movement = pd.read_csv('data/advantage_movement.csv')\n",
    "boot_mapping = pd.read_csv('data/boot_mapping.csv')\n",
    "castaway_details = pd.read_csv('data/castaway_details.csv')\n",
    "castaways = pd.read_csv('data/castaways.csv')\n",
    "challenge_description = pd.read_csv('data/challenge_description.csv')\n",
    "challenge_results = pd.read_csv('data/challenge_results.csv')\n",
    "confessionals = pd.read_csv('data/confessionals.csv')\n",
    "hidden_idols = pd.read_csv('data/hidden_idols.csv')\n",
    "jury_votes = pd.read_csv('data/jury_votes.csv')\n",
    "season_summary = pd.read_csv('data/season_summary.csv')\n",
    "tribe_colours = pd.read_csv('data/tribe_colours.csv')\n",
    "tribe_mapping = pd.read_csv('data/tribe_mapping.csv')\n",
    "vote_history = pd.read_csv('data/vote_history.csv')"
   ]
  },
  {
   "cell_type": "markdown",
   "id": "70e8fa69",
   "metadata": {},
   "source": [
    "The advantage_details dataset contains the details and characteristics of each idol and advantage."
   ]
  },
  {
   "cell_type": "code",
   "execution_count": 4,
   "id": "99f779b0",
   "metadata": {},
   "outputs": [
    {
     "data": {
      "text/html": [
       "<div>\n",
       "<style scoped>\n",
       "    .dataframe tbody tr th:only-of-type {\n",
       "        vertical-align: middle;\n",
       "    }\n",
       "\n",
       "    .dataframe tbody tr th {\n",
       "        vertical-align: top;\n",
       "    }\n",
       "\n",
       "    .dataframe thead th {\n",
       "        text-align: right;\n",
       "    }\n",
       "</style>\n",
       "<table border=\"1\" class=\"dataframe\">\n",
       "  <thead>\n",
       "    <tr style=\"text-align: right;\">\n",
       "      <th></th>\n",
       "      <th>version</th>\n",
       "      <th>version_season</th>\n",
       "      <th>season_name</th>\n",
       "      <th>season</th>\n",
       "      <th>advantage_id</th>\n",
       "      <th>advantage_type</th>\n",
       "      <th>clue_details</th>\n",
       "      <th>location_found</th>\n",
       "      <th>conditions</th>\n",
       "    </tr>\n",
       "  </thead>\n",
       "  <tbody>\n",
       "    <tr>\n",
       "      <th>0</th>\n",
       "      <td>US</td>\n",
       "      <td>US11</td>\n",
       "      <td>Survivor: Guatemala</td>\n",
       "      <td>11</td>\n",
       "      <td>USHI1101</td>\n",
       "      <td>Hidden immunity idol</td>\n",
       "      <td>Found without clue</td>\n",
       "      <td>Found around camp</td>\n",
       "      <td>Play before votes are cast</td>\n",
       "    </tr>\n",
       "    <tr>\n",
       "      <th>1</th>\n",
       "      <td>US</td>\n",
       "      <td>US12</td>\n",
       "      <td>Survivor: Panama</td>\n",
       "      <td>12</td>\n",
       "      <td>USSI1201</td>\n",
       "      <td>Super idol</td>\n",
       "      <td>Found on Exile</td>\n",
       "      <td>Advantage from Exile</td>\n",
       "      <td>Play after votes are read; Valid until F4</td>\n",
       "    </tr>\n",
       "    <tr>\n",
       "      <th>2</th>\n",
       "      <td>US</td>\n",
       "      <td>US13</td>\n",
       "      <td>Survivor: Cook Islands</td>\n",
       "      <td>13</td>\n",
       "      <td>USSI1301</td>\n",
       "      <td>Super idol</td>\n",
       "      <td>Found on Exile</td>\n",
       "      <td>Advantage from Exile</td>\n",
       "      <td>Play after votes are read; Valid until F4</td>\n",
       "    </tr>\n",
       "    <tr>\n",
       "      <th>3</th>\n",
       "      <td>US</td>\n",
       "      <td>US14</td>\n",
       "      <td>Survivor: Fiji</td>\n",
       "      <td>14</td>\n",
       "      <td>USHI1401</td>\n",
       "      <td>Hidden immunity idol</td>\n",
       "      <td>Found on Exile</td>\n",
       "      <td>Found around camp</td>\n",
       "      <td>NaN</td>\n",
       "    </tr>\n",
       "    <tr>\n",
       "      <th>4</th>\n",
       "      <td>US</td>\n",
       "      <td>US14</td>\n",
       "      <td>Survivor: Fiji</td>\n",
       "      <td>14</td>\n",
       "      <td>USHI1402</td>\n",
       "      <td>Hidden immunity idol</td>\n",
       "      <td>Someone shared the clue</td>\n",
       "      <td>Found around camp</td>\n",
       "      <td>NaN</td>\n",
       "    </tr>\n",
       "  </tbody>\n",
       "</table>\n",
       "</div>"
      ],
      "text/plain": [
       "  version version_season             season_name  season advantage_id  \\\n",
       "0      US           US11     Survivor: Guatemala      11     USHI1101   \n",
       "1      US           US12        Survivor: Panama      12     USSI1201   \n",
       "2      US           US13  Survivor: Cook Islands      13     USSI1301   \n",
       "3      US           US14          Survivor: Fiji      14     USHI1401   \n",
       "4      US           US14          Survivor: Fiji      14     USHI1402   \n",
       "\n",
       "         advantage_type             clue_details        location_found  \\\n",
       "0  Hidden immunity idol       Found without clue     Found around camp   \n",
       "1            Super idol           Found on Exile  Advantage from Exile   \n",
       "2            Super idol           Found on Exile  Advantage from Exile   \n",
       "3  Hidden immunity idol           Found on Exile     Found around camp   \n",
       "4  Hidden immunity idol  Someone shared the clue     Found around camp   \n",
       "\n",
       "                                  conditions  \n",
       "0                 Play before votes are cast  \n",
       "1  Play after votes are read; Valid until F4  \n",
       "2  Play after votes are read; Valid until F4  \n",
       "3                                        NaN  \n",
       "4                                        NaN  "
      ]
     },
     "execution_count": 4,
     "metadata": {},
     "output_type": "execute_result"
    }
   ],
   "source": [
    "advantage_details.head()"
   ]
  },
  {
   "cell_type": "markdown",
   "id": "7d5e4020",
   "metadata": {},
   "source": [
    "The advantage_movement dataset contains the movement details of each advantage or hidden immunity idol. Each row is\n",
    "considered an event e.g. the idol was found, played, etc. If the advantage changed hands it records who received it."
   ]
  },
  {
   "cell_type": "code",
   "execution_count": 5,
   "id": "13312eb7",
   "metadata": {},
   "outputs": [
    {
     "data": {
      "text/html": [
       "<div>\n",
       "<style scoped>\n",
       "    .dataframe tbody tr th:only-of-type {\n",
       "        vertical-align: middle;\n",
       "    }\n",
       "\n",
       "    .dataframe tbody tr th {\n",
       "        vertical-align: top;\n",
       "    }\n",
       "\n",
       "    .dataframe thead th {\n",
       "        text-align: right;\n",
       "    }\n",
       "</style>\n",
       "<table border=\"1\" class=\"dataframe\">\n",
       "  <thead>\n",
       "    <tr style=\"text-align: right;\">\n",
       "      <th></th>\n",
       "      <th>version</th>\n",
       "      <th>version_season</th>\n",
       "      <th>season_name</th>\n",
       "      <th>season</th>\n",
       "      <th>castaway</th>\n",
       "      <th>castaway_id</th>\n",
       "      <th>advantage_id</th>\n",
       "      <th>sequence_id</th>\n",
       "      <th>day</th>\n",
       "      <th>episode</th>\n",
       "      <th>event</th>\n",
       "      <th>played_for</th>\n",
       "      <th>played_for_id</th>\n",
       "      <th>success</th>\n",
       "      <th>votes_nullified</th>\n",
       "    </tr>\n",
       "  </thead>\n",
       "  <tbody>\n",
       "    <tr>\n",
       "      <th>0</th>\n",
       "      <td>US</td>\n",
       "      <td>US11</td>\n",
       "      <td>Survivor: Guatemala</td>\n",
       "      <td>11</td>\n",
       "      <td>Gary</td>\n",
       "      <td>US0161</td>\n",
       "      <td>USSI1101</td>\n",
       "      <td>1</td>\n",
       "      <td>24</td>\n",
       "      <td>9</td>\n",
       "      <td>Found</td>\n",
       "      <td>NaN</td>\n",
       "      <td>NaN</td>\n",
       "      <td>NaN</td>\n",
       "      <td>NaN</td>\n",
       "    </tr>\n",
       "    <tr>\n",
       "      <th>1</th>\n",
       "      <td>US</td>\n",
       "      <td>US11</td>\n",
       "      <td>Survivor: Guatemala</td>\n",
       "      <td>11</td>\n",
       "      <td>Gary</td>\n",
       "      <td>US0161</td>\n",
       "      <td>USSI1101</td>\n",
       "      <td>2</td>\n",
       "      <td>24</td>\n",
       "      <td>9</td>\n",
       "      <td>Played</td>\n",
       "      <td>Gary</td>\n",
       "      <td>US0161</td>\n",
       "      <td>Yes</td>\n",
       "      <td>0.0</td>\n",
       "    </tr>\n",
       "    <tr>\n",
       "      <th>2</th>\n",
       "      <td>US</td>\n",
       "      <td>US12</td>\n",
       "      <td>Survivor: Panama</td>\n",
       "      <td>12</td>\n",
       "      <td>Terry</td>\n",
       "      <td>US0180</td>\n",
       "      <td>USSI1201</td>\n",
       "      <td>1</td>\n",
       "      <td>9</td>\n",
       "      <td>4</td>\n",
       "      <td>Found</td>\n",
       "      <td>NaN</td>\n",
       "      <td>NaN</td>\n",
       "      <td>NaN</td>\n",
       "      <td>NaN</td>\n",
       "    </tr>\n",
       "    <tr>\n",
       "      <th>3</th>\n",
       "      <td>US</td>\n",
       "      <td>US12</td>\n",
       "      <td>Survivor: Panama</td>\n",
       "      <td>12</td>\n",
       "      <td>Terry</td>\n",
       "      <td>US0180</td>\n",
       "      <td>USSI1201</td>\n",
       "      <td>2</td>\n",
       "      <td>37</td>\n",
       "      <td>15</td>\n",
       "      <td>Expired</td>\n",
       "      <td>NaN</td>\n",
       "      <td>NaN</td>\n",
       "      <td>NaN</td>\n",
       "      <td>NaN</td>\n",
       "    </tr>\n",
       "    <tr>\n",
       "      <th>4</th>\n",
       "      <td>US</td>\n",
       "      <td>US13</td>\n",
       "      <td>Survivor: Cook Islands</td>\n",
       "      <td>13</td>\n",
       "      <td>Yul</td>\n",
       "      <td>US0202</td>\n",
       "      <td>USSI1301</td>\n",
       "      <td>1</td>\n",
       "      <td>5</td>\n",
       "      <td>2</td>\n",
       "      <td>Found</td>\n",
       "      <td>NaN</td>\n",
       "      <td>NaN</td>\n",
       "      <td>NaN</td>\n",
       "      <td>NaN</td>\n",
       "    </tr>\n",
       "  </tbody>\n",
       "</table>\n",
       "</div>"
      ],
      "text/plain": [
       "  version version_season             season_name  season castaway castaway_id  \\\n",
       "0      US           US11     Survivor: Guatemala      11     Gary      US0161   \n",
       "1      US           US11     Survivor: Guatemala      11     Gary      US0161   \n",
       "2      US           US12        Survivor: Panama      12    Terry      US0180   \n",
       "3      US           US12        Survivor: Panama      12    Terry      US0180   \n",
       "4      US           US13  Survivor: Cook Islands      13      Yul      US0202   \n",
       "\n",
       "  advantage_id  sequence_id  day  episode    event played_for played_for_id  \\\n",
       "0     USSI1101            1   24        9    Found        NaN           NaN   \n",
       "1     USSI1101            2   24        9   Played       Gary        US0161   \n",
       "2     USSI1201            1    9        4    Found        NaN           NaN   \n",
       "3     USSI1201            2   37       15  Expired        NaN           NaN   \n",
       "4     USSI1301            1    5        2    Found        NaN           NaN   \n",
       "\n",
       "  success  votes_nullified  \n",
       "0     NaN              NaN  \n",
       "1     Yes              0.0  \n",
       "2     NaN              NaN  \n",
       "3     NaN              NaN  \n",
       "4     NaN              NaN  "
      ]
     },
     "execution_count": 5,
     "metadata": {},
     "output_type": "execute_result"
    }
   ],
   "source": [
    "advantage_movement.head()"
   ]
  },
  {
   "cell_type": "markdown",
   "id": "5067a4e8",
   "metadata": {},
   "source": [
    "The boot_mapping dataset is a mapping table for easily filtering to the set of castaways that are still in the game after a specified number of boots."
   ]
  },
  {
   "cell_type": "code",
   "execution_count": 6,
   "id": "243dfa70",
   "metadata": {},
   "outputs": [
    {
     "data": {
      "text/html": [
       "<div>\n",
       "<style scoped>\n",
       "    .dataframe tbody tr th:only-of-type {\n",
       "        vertical-align: middle;\n",
       "    }\n",
       "\n",
       "    .dataframe tbody tr th {\n",
       "        vertical-align: top;\n",
       "    }\n",
       "\n",
       "    .dataframe thead th {\n",
       "        text-align: right;\n",
       "    }\n",
       "</style>\n",
       "<table border=\"1\" class=\"dataframe\">\n",
       "  <thead>\n",
       "    <tr style=\"text-align: right;\">\n",
       "      <th></th>\n",
       "      <th>version</th>\n",
       "      <th>version_season</th>\n",
       "      <th>season_name</th>\n",
       "      <th>season</th>\n",
       "      <th>episode</th>\n",
       "      <th>order</th>\n",
       "      <th>castaway</th>\n",
       "      <th>castaway_id</th>\n",
       "      <th>tribe</th>\n",
       "      <th>tribe_status</th>\n",
       "      <th>in_the_game</th>\n",
       "    </tr>\n",
       "  </thead>\n",
       "  <tbody>\n",
       "    <tr>\n",
       "      <th>0</th>\n",
       "      <td>US</td>\n",
       "      <td>US01</td>\n",
       "      <td>Survivor: Borneo</td>\n",
       "      <td>1</td>\n",
       "      <td>1</td>\n",
       "      <td>0</td>\n",
       "      <td>Sonja</td>\n",
       "      <td>US0001</td>\n",
       "      <td>Tagi</td>\n",
       "      <td>Original</td>\n",
       "      <td>True</td>\n",
       "    </tr>\n",
       "    <tr>\n",
       "      <th>1</th>\n",
       "      <td>US</td>\n",
       "      <td>US01</td>\n",
       "      <td>Survivor: Borneo</td>\n",
       "      <td>1</td>\n",
       "      <td>1</td>\n",
       "      <td>0</td>\n",
       "      <td>B.B.</td>\n",
       "      <td>US0002</td>\n",
       "      <td>Pagong</td>\n",
       "      <td>Original</td>\n",
       "      <td>True</td>\n",
       "    </tr>\n",
       "    <tr>\n",
       "      <th>2</th>\n",
       "      <td>US</td>\n",
       "      <td>US01</td>\n",
       "      <td>Survivor: Borneo</td>\n",
       "      <td>1</td>\n",
       "      <td>1</td>\n",
       "      <td>0</td>\n",
       "      <td>Stacey</td>\n",
       "      <td>US0003</td>\n",
       "      <td>Tagi</td>\n",
       "      <td>Original</td>\n",
       "      <td>True</td>\n",
       "    </tr>\n",
       "    <tr>\n",
       "      <th>3</th>\n",
       "      <td>US</td>\n",
       "      <td>US01</td>\n",
       "      <td>Survivor: Borneo</td>\n",
       "      <td>1</td>\n",
       "      <td>1</td>\n",
       "      <td>0</td>\n",
       "      <td>Ramona</td>\n",
       "      <td>US0004</td>\n",
       "      <td>Pagong</td>\n",
       "      <td>Original</td>\n",
       "      <td>True</td>\n",
       "    </tr>\n",
       "    <tr>\n",
       "      <th>4</th>\n",
       "      <td>US</td>\n",
       "      <td>US01</td>\n",
       "      <td>Survivor: Borneo</td>\n",
       "      <td>1</td>\n",
       "      <td>1</td>\n",
       "      <td>0</td>\n",
       "      <td>Dirk</td>\n",
       "      <td>US0005</td>\n",
       "      <td>Tagi</td>\n",
       "      <td>Original</td>\n",
       "      <td>True</td>\n",
       "    </tr>\n",
       "  </tbody>\n",
       "</table>\n",
       "</div>"
      ],
      "text/plain": [
       "  version version_season       season_name  season  episode  order castaway  \\\n",
       "0      US           US01  Survivor: Borneo       1        1      0    Sonja   \n",
       "1      US           US01  Survivor: Borneo       1        1      0     B.B.   \n",
       "2      US           US01  Survivor: Borneo       1        1      0   Stacey   \n",
       "3      US           US01  Survivor: Borneo       1        1      0   Ramona   \n",
       "4      US           US01  Survivor: Borneo       1        1      0     Dirk   \n",
       "\n",
       "  castaway_id   tribe tribe_status in_the_game  \n",
       "0      US0001    Tagi     Original        True  \n",
       "1      US0002  Pagong     Original        True  \n",
       "2      US0003    Tagi     Original        True  \n",
       "3      US0004  Pagong     Original        True  \n",
       "4      US0005    Tagi     Original        True  "
      ]
     },
     "execution_count": 6,
     "metadata": {},
     "output_type": "execute_result"
    }
   ],
   "source": [
    "boot_mapping.head()"
   ]
  },
  {
   "cell_type": "markdown",
   "id": "d8ce890d",
   "metadata": {},
   "source": [
    "The castaway_details dataset contains details on the castaways for each season, including gender, race, and occupation."
   ]
  },
  {
   "cell_type": "code",
   "execution_count": 7,
   "id": "f3eb1315",
   "metadata": {},
   "outputs": [
    {
     "data": {
      "text/html": [
       "<div>\n",
       "<style scoped>\n",
       "    .dataframe tbody tr th:only-of-type {\n",
       "        vertical-align: middle;\n",
       "    }\n",
       "\n",
       "    .dataframe tbody tr th {\n",
       "        vertical-align: top;\n",
       "    }\n",
       "\n",
       "    .dataframe thead th {\n",
       "        text-align: right;\n",
       "    }\n",
       "</style>\n",
       "<table border=\"1\" class=\"dataframe\">\n",
       "  <thead>\n",
       "    <tr style=\"text-align: right;\">\n",
       "      <th></th>\n",
       "      <th>castaway_id</th>\n",
       "      <th>full_name</th>\n",
       "      <th>short_name</th>\n",
       "      <th>date_of_birth</th>\n",
       "      <th>date_of_death</th>\n",
       "      <th>gender</th>\n",
       "      <th>race</th>\n",
       "      <th>ethnicity</th>\n",
       "      <th>poc</th>\n",
       "      <th>occupation</th>\n",
       "      <th>personality_type</th>\n",
       "    </tr>\n",
       "  </thead>\n",
       "  <tbody>\n",
       "    <tr>\n",
       "      <th>0</th>\n",
       "      <td>US0001</td>\n",
       "      <td>Sonja Christopher</td>\n",
       "      <td>Sonja</td>\n",
       "      <td>1937-01-28</td>\n",
       "      <td>NaN</td>\n",
       "      <td>Female</td>\n",
       "      <td>NaN</td>\n",
       "      <td>NaN</td>\n",
       "      <td>White</td>\n",
       "      <td>Musician</td>\n",
       "      <td>ENFP</td>\n",
       "    </tr>\n",
       "    <tr>\n",
       "      <th>1</th>\n",
       "      <td>US0002</td>\n",
       "      <td>B.B. Andersen</td>\n",
       "      <td>B.B.</td>\n",
       "      <td>1936-01-18</td>\n",
       "      <td>2013-10-29</td>\n",
       "      <td>Male</td>\n",
       "      <td>NaN</td>\n",
       "      <td>NaN</td>\n",
       "      <td>White</td>\n",
       "      <td>Real Estate Developer</td>\n",
       "      <td>ESTJ</td>\n",
       "    </tr>\n",
       "    <tr>\n",
       "      <th>2</th>\n",
       "      <td>US0003</td>\n",
       "      <td>Stacey Stillman</td>\n",
       "      <td>Stacey</td>\n",
       "      <td>1972-08-11</td>\n",
       "      <td>NaN</td>\n",
       "      <td>Female</td>\n",
       "      <td>NaN</td>\n",
       "      <td>NaN</td>\n",
       "      <td>White</td>\n",
       "      <td>Attorney</td>\n",
       "      <td>ENTJ</td>\n",
       "    </tr>\n",
       "    <tr>\n",
       "      <th>3</th>\n",
       "      <td>US0004</td>\n",
       "      <td>Ramona Gray</td>\n",
       "      <td>Ramona</td>\n",
       "      <td>1971-01-20</td>\n",
       "      <td>NaN</td>\n",
       "      <td>Female</td>\n",
       "      <td>Black</td>\n",
       "      <td>NaN</td>\n",
       "      <td>POC</td>\n",
       "      <td>Biochemist/Chemist</td>\n",
       "      <td>ISTJ</td>\n",
       "    </tr>\n",
       "    <tr>\n",
       "      <th>4</th>\n",
       "      <td>US0005</td>\n",
       "      <td>Dirk Been</td>\n",
       "      <td>Dirk</td>\n",
       "      <td>1976-06-15</td>\n",
       "      <td>NaN</td>\n",
       "      <td>Male</td>\n",
       "      <td>NaN</td>\n",
       "      <td>NaN</td>\n",
       "      <td>White</td>\n",
       "      <td>Dairy Farmer</td>\n",
       "      <td>ISFP</td>\n",
       "    </tr>\n",
       "  </tbody>\n",
       "</table>\n",
       "</div>"
      ],
      "text/plain": [
       "  castaway_id          full_name short_name date_of_birth date_of_death  \\\n",
       "0      US0001  Sonja Christopher      Sonja    1937-01-28           NaN   \n",
       "1      US0002      B.B. Andersen       B.B.    1936-01-18    2013-10-29   \n",
       "2      US0003    Stacey Stillman     Stacey    1972-08-11           NaN   \n",
       "3      US0004        Ramona Gray     Ramona    1971-01-20           NaN   \n",
       "4      US0005          Dirk Been       Dirk    1976-06-15           NaN   \n",
       "\n",
       "   gender   race ethnicity    poc             occupation personality_type  \n",
       "0  Female    NaN       NaN  White               Musician             ENFP  \n",
       "1    Male    NaN       NaN  White  Real Estate Developer             ESTJ  \n",
       "2  Female    NaN       NaN  White               Attorney             ENTJ  \n",
       "3  Female  Black       NaN    POC     Biochemist/Chemist             ISTJ  \n",
       "4    Male    NaN       NaN  White           Dairy Farmer             ISFP  "
      ]
     },
     "execution_count": 7,
     "metadata": {},
     "output_type": "execute_result"
    }
   ],
   "source": [
    "castaway_details.head()"
   ]
  },
  {
   "cell_type": "markdown",
   "id": "c2e53284",
   "metadata": {},
   "source": [
    "The castaways dataset contains details on the results for every castaway and season."
   ]
  },
  {
   "cell_type": "code",
   "execution_count": 8,
   "id": "e851f5ca",
   "metadata": {},
   "outputs": [
    {
     "data": {
      "text/html": [
       "<div>\n",
       "<style scoped>\n",
       "    .dataframe tbody tr th:only-of-type {\n",
       "        vertical-align: middle;\n",
       "    }\n",
       "\n",
       "    .dataframe tbody tr th {\n",
       "        vertical-align: top;\n",
       "    }\n",
       "\n",
       "    .dataframe thead th {\n",
       "        text-align: right;\n",
       "    }\n",
       "</style>\n",
       "<table border=\"1\" class=\"dataframe\">\n",
       "  <thead>\n",
       "    <tr style=\"text-align: right;\">\n",
       "      <th></th>\n",
       "      <th>version</th>\n",
       "      <th>version_season</th>\n",
       "      <th>season_name</th>\n",
       "      <th>season</th>\n",
       "      <th>full_name</th>\n",
       "      <th>castaway_id</th>\n",
       "      <th>castaway</th>\n",
       "      <th>age</th>\n",
       "      <th>city</th>\n",
       "      <th>state</th>\n",
       "      <th>personality_type</th>\n",
       "      <th>episode</th>\n",
       "      <th>day</th>\n",
       "      <th>order</th>\n",
       "      <th>result</th>\n",
       "      <th>jury_status</th>\n",
       "      <th>original_tribe</th>\n",
       "    </tr>\n",
       "  </thead>\n",
       "  <tbody>\n",
       "    <tr>\n",
       "      <th>0</th>\n",
       "      <td>US</td>\n",
       "      <td>US01</td>\n",
       "      <td>Survivor: Borneo</td>\n",
       "      <td>1</td>\n",
       "      <td>Richard Hatch</td>\n",
       "      <td>US0016</td>\n",
       "      <td>Richard</td>\n",
       "      <td>39</td>\n",
       "      <td>Newport</td>\n",
       "      <td>Rhode Island</td>\n",
       "      <td>ENTP</td>\n",
       "      <td>14</td>\n",
       "      <td>39</td>\n",
       "      <td>16</td>\n",
       "      <td>Sole Survivor</td>\n",
       "      <td>NaN</td>\n",
       "      <td>Tagi</td>\n",
       "    </tr>\n",
       "    <tr>\n",
       "      <th>1</th>\n",
       "      <td>US</td>\n",
       "      <td>US01</td>\n",
       "      <td>Survivor: Borneo</td>\n",
       "      <td>1</td>\n",
       "      <td>Kelly Wiglesworth</td>\n",
       "      <td>US0015</td>\n",
       "      <td>Kelly</td>\n",
       "      <td>22</td>\n",
       "      <td>Kernville</td>\n",
       "      <td>California</td>\n",
       "      <td>ISFP</td>\n",
       "      <td>14</td>\n",
       "      <td>39</td>\n",
       "      <td>15</td>\n",
       "      <td>Runner-up</td>\n",
       "      <td>NaN</td>\n",
       "      <td>Tagi</td>\n",
       "    </tr>\n",
       "    <tr>\n",
       "      <th>2</th>\n",
       "      <td>US</td>\n",
       "      <td>US01</td>\n",
       "      <td>Survivor: Borneo</td>\n",
       "      <td>1</td>\n",
       "      <td>Rudy Boesch</td>\n",
       "      <td>US0014</td>\n",
       "      <td>Rudy</td>\n",
       "      <td>72</td>\n",
       "      <td>Virginia Beach</td>\n",
       "      <td>Virginia</td>\n",
       "      <td>ISTJ</td>\n",
       "      <td>13</td>\n",
       "      <td>38</td>\n",
       "      <td>14</td>\n",
       "      <td>14th voted out</td>\n",
       "      <td>7th jury member</td>\n",
       "      <td>Tagi</td>\n",
       "    </tr>\n",
       "    <tr>\n",
       "      <th>3</th>\n",
       "      <td>US</td>\n",
       "      <td>US01</td>\n",
       "      <td>Survivor: Borneo</td>\n",
       "      <td>1</td>\n",
       "      <td>Susan Hawk</td>\n",
       "      <td>US0013</td>\n",
       "      <td>Sue</td>\n",
       "      <td>38</td>\n",
       "      <td>Palmyra</td>\n",
       "      <td>Wisconsin</td>\n",
       "      <td>ESTP</td>\n",
       "      <td>13</td>\n",
       "      <td>37</td>\n",
       "      <td>13</td>\n",
       "      <td>13th voted out</td>\n",
       "      <td>6th jury member</td>\n",
       "      <td>Tagi</td>\n",
       "    </tr>\n",
       "    <tr>\n",
       "      <th>4</th>\n",
       "      <td>US</td>\n",
       "      <td>US01</td>\n",
       "      <td>Survivor: Borneo</td>\n",
       "      <td>1</td>\n",
       "      <td>Sean Kenniff</td>\n",
       "      <td>US0012</td>\n",
       "      <td>Sean</td>\n",
       "      <td>30</td>\n",
       "      <td>Carle Place</td>\n",
       "      <td>New York</td>\n",
       "      <td>INTP</td>\n",
       "      <td>12</td>\n",
       "      <td>36</td>\n",
       "      <td>12</td>\n",
       "      <td>12th voted out</td>\n",
       "      <td>5th jury member</td>\n",
       "      <td>Tagi</td>\n",
       "    </tr>\n",
       "  </tbody>\n",
       "</table>\n",
       "</div>"
      ],
      "text/plain": [
       "  version version_season       season_name  season          full_name  \\\n",
       "0      US           US01  Survivor: Borneo       1      Richard Hatch   \n",
       "1      US           US01  Survivor: Borneo       1  Kelly Wiglesworth   \n",
       "2      US           US01  Survivor: Borneo       1        Rudy Boesch   \n",
       "3      US           US01  Survivor: Borneo       1         Susan Hawk   \n",
       "4      US           US01  Survivor: Borneo       1       Sean Kenniff   \n",
       "\n",
       "  castaway_id castaway  age            city         state personality_type  \\\n",
       "0      US0016  Richard   39         Newport  Rhode Island             ENTP   \n",
       "1      US0015    Kelly   22       Kernville    California             ISFP   \n",
       "2      US0014     Rudy   72  Virginia Beach      Virginia             ISTJ   \n",
       "3      US0013      Sue   38         Palmyra     Wisconsin             ESTP   \n",
       "4      US0012     Sean   30     Carle Place      New York             INTP   \n",
       "\n",
       "   episode  day  order          result      jury_status original_tribe  \n",
       "0       14   39     16   Sole Survivor              NaN           Tagi  \n",
       "1       14   39     15       Runner-up              NaN           Tagi  \n",
       "2       13   38     14  14th voted out  7th jury member           Tagi  \n",
       "3       13   37     13  13th voted out  6th jury member           Tagi  \n",
       "4       12   36     12  12th voted out  5th jury member           Tagi  "
      ]
     },
     "execution_count": 8,
     "metadata": {},
     "output_type": "execute_result"
    }
   ],
   "source": [
    "castaways.head()"
   ]
  },
  {
   "cell_type": "markdown",
   "id": "19c74187",
   "metadata": {},
   "source": [
    "The challenge_description dataset details the challenges played and the elements they include over all seasons of Survivor."
   ]
  },
  {
   "cell_type": "code",
   "execution_count": 9,
   "id": "025706dc",
   "metadata": {},
   "outputs": [
    {
     "data": {
      "text/html": [
       "<div>\n",
       "<style scoped>\n",
       "    .dataframe tbody tr th:only-of-type {\n",
       "        vertical-align: middle;\n",
       "    }\n",
       "\n",
       "    .dataframe tbody tr th {\n",
       "        vertical-align: top;\n",
       "    }\n",
       "\n",
       "    .dataframe thead th {\n",
       "        text-align: right;\n",
       "    }\n",
       "</style>\n",
       "<table border=\"1\" class=\"dataframe\">\n",
       "  <thead>\n",
       "    <tr style=\"text-align: right;\">\n",
       "      <th></th>\n",
       "      <th>challenge_id</th>\n",
       "      <th>challenge_name</th>\n",
       "      <th>puzzle</th>\n",
       "      <th>race</th>\n",
       "      <th>precision</th>\n",
       "      <th>endurance</th>\n",
       "      <th>strength</th>\n",
       "      <th>turn_based</th>\n",
       "      <th>balance</th>\n",
       "      <th>food</th>\n",
       "      <th>knowledge</th>\n",
       "      <th>memory</th>\n",
       "      <th>fire</th>\n",
       "      <th>water</th>\n",
       "    </tr>\n",
       "  </thead>\n",
       "  <tbody>\n",
       "    <tr>\n",
       "      <th>0</th>\n",
       "      <td>CC0053</td>\n",
       "      <td>Barrel of Monkeys</td>\n",
       "      <td>False</td>\n",
       "      <td>True</td>\n",
       "      <td>True</td>\n",
       "      <td>False</td>\n",
       "      <td>False</td>\n",
       "      <td>False</td>\n",
       "      <td>False</td>\n",
       "      <td>False</td>\n",
       "      <td>False</td>\n",
       "      <td>False</td>\n",
       "      <td>False</td>\n",
       "      <td>True</td>\n",
       "    </tr>\n",
       "    <tr>\n",
       "      <th>1</th>\n",
       "      <td>CC0079</td>\n",
       "      <td>Blue Lagoon Bustle</td>\n",
       "      <td>True</td>\n",
       "      <td>True</td>\n",
       "      <td>True</td>\n",
       "      <td>False</td>\n",
       "      <td>False</td>\n",
       "      <td>False</td>\n",
       "      <td>False</td>\n",
       "      <td>False</td>\n",
       "      <td>False</td>\n",
       "      <td>False</td>\n",
       "      <td>False</td>\n",
       "      <td>True</td>\n",
       "    </tr>\n",
       "    <tr>\n",
       "      <th>2</th>\n",
       "      <td>CC0114</td>\n",
       "      <td>By the Numbers</td>\n",
       "      <td>False</td>\n",
       "      <td>True</td>\n",
       "      <td>False</td>\n",
       "      <td>False</td>\n",
       "      <td>False</td>\n",
       "      <td>False</td>\n",
       "      <td>True</td>\n",
       "      <td>False</td>\n",
       "      <td>False</td>\n",
       "      <td>False</td>\n",
       "      <td>False</td>\n",
       "      <td>True</td>\n",
       "    </tr>\n",
       "    <tr>\n",
       "      <th>3</th>\n",
       "      <td>CC0138</td>\n",
       "      <td>Choose Your Weapon</td>\n",
       "      <td>False</td>\n",
       "      <td>True</td>\n",
       "      <td>True</td>\n",
       "      <td>False</td>\n",
       "      <td>False</td>\n",
       "      <td>True</td>\n",
       "      <td>False</td>\n",
       "      <td>False</td>\n",
       "      <td>False</td>\n",
       "      <td>False</td>\n",
       "      <td>False</td>\n",
       "      <td>False</td>\n",
       "    </tr>\n",
       "    <tr>\n",
       "      <th>4</th>\n",
       "      <td>CC0232</td>\n",
       "      <td>Flashback</td>\n",
       "      <td>False</td>\n",
       "      <td>False</td>\n",
       "      <td>False</td>\n",
       "      <td>True</td>\n",
       "      <td>False</td>\n",
       "      <td>False</td>\n",
       "      <td>False</td>\n",
       "      <td>False</td>\n",
       "      <td>True</td>\n",
       "      <td>True</td>\n",
       "      <td>False</td>\n",
       "      <td>False</td>\n",
       "    </tr>\n",
       "  </tbody>\n",
       "</table>\n",
       "</div>"
      ],
      "text/plain": [
       "  challenge_id      challenge_name  puzzle   race  precision  endurance  \\\n",
       "0       CC0053   Barrel of Monkeys   False   True       True      False   \n",
       "1       CC0079  Blue Lagoon Bustle    True   True       True      False   \n",
       "2       CC0114      By the Numbers   False   True      False      False   \n",
       "3       CC0138  Choose Your Weapon   False   True       True      False   \n",
       "4       CC0232           Flashback   False  False      False       True   \n",
       "\n",
       "   strength  turn_based  balance   food  knowledge  memory   fire  water  \n",
       "0     False       False    False  False      False   False  False   True  \n",
       "1     False       False    False  False      False   False  False   True  \n",
       "2     False       False     True  False      False   False  False   True  \n",
       "3     False        True    False  False      False   False  False  False  \n",
       "4     False       False    False  False       True    True  False  False  "
      ]
     },
     "execution_count": 9,
     "metadata": {},
     "output_type": "execute_result"
    }
   ],
   "source": [
    "challenge_description.head()"
   ]
  },
  {
   "cell_type": "markdown",
   "id": "2df7705d",
   "metadata": {},
   "source": [
    "The challenge_results dataset details the challenges played including reward and immunity challenges."
   ]
  },
  {
   "cell_type": "code",
   "execution_count": 10,
   "id": "1dc79843",
   "metadata": {
    "scrolled": false
   },
   "outputs": [
    {
     "data": {
      "text/html": [
       "<div>\n",
       "<style scoped>\n",
       "    .dataframe tbody tr th:only-of-type {\n",
       "        vertical-align: middle;\n",
       "    }\n",
       "\n",
       "    .dataframe tbody tr th {\n",
       "        vertical-align: top;\n",
       "    }\n",
       "\n",
       "    .dataframe thead th {\n",
       "        text-align: right;\n",
       "    }\n",
       "</style>\n",
       "<table border=\"1\" class=\"dataframe\">\n",
       "  <thead>\n",
       "    <tr style=\"text-align: right;\">\n",
       "      <th></th>\n",
       "      <th>version</th>\n",
       "      <th>version_season</th>\n",
       "      <th>season_name</th>\n",
       "      <th>season</th>\n",
       "      <th>episode</th>\n",
       "      <th>day</th>\n",
       "      <th>order</th>\n",
       "      <th>episode_title</th>\n",
       "      <th>challenge_name</th>\n",
       "      <th>challenge_type</th>\n",
       "      <th>outcome_type</th>\n",
       "      <th>challenge_id</th>\n",
       "      <th>winners</th>\n",
       "    </tr>\n",
       "  </thead>\n",
       "  <tbody>\n",
       "    <tr>\n",
       "      <th>0</th>\n",
       "      <td>US</td>\n",
       "      <td>US01</td>\n",
       "      <td>Survivor: Borneo</td>\n",
       "      <td>1</td>\n",
       "      <td>1</td>\n",
       "      <td>3</td>\n",
       "      <td>0</td>\n",
       "      <td>The Marooning</td>\n",
       "      <td>Quest for Fire</td>\n",
       "      <td>Reward and Immunity</td>\n",
       "      <td>Tribal</td>\n",
       "      <td>CH0001</td>\n",
       "      <td>list(winner_id = c(\"US0002\", \"US0004\", \"US0006...</td>\n",
       "    </tr>\n",
       "    <tr>\n",
       "      <th>1</th>\n",
       "      <td>US</td>\n",
       "      <td>US01</td>\n",
       "      <td>Survivor: Borneo</td>\n",
       "      <td>1</td>\n",
       "      <td>2</td>\n",
       "      <td>6</td>\n",
       "      <td>1</td>\n",
       "      <td>The Generation Gap</td>\n",
       "      <td>Buggin' Out</td>\n",
       "      <td>Immunity</td>\n",
       "      <td>Tribal</td>\n",
       "      <td>CH0004</td>\n",
       "      <td>list(winner_id = c(\"US0003\", \"US0005\", \"US0012...</td>\n",
       "    </tr>\n",
       "    <tr>\n",
       "      <th>2</th>\n",
       "      <td>US</td>\n",
       "      <td>US01</td>\n",
       "      <td>Survivor: Borneo</td>\n",
       "      <td>1</td>\n",
       "      <td>2</td>\n",
       "      <td>6</td>\n",
       "      <td>1</td>\n",
       "      <td>The Generation Gap</td>\n",
       "      <td>Shoulder the Load</td>\n",
       "      <td>Reward</td>\n",
       "      <td>Tribal</td>\n",
       "      <td>CH0357</td>\n",
       "      <td>list(winner_id = c(\"US0002\", \"US0004\", \"US0006...</td>\n",
       "    </tr>\n",
       "    <tr>\n",
       "      <th>3</th>\n",
       "      <td>US</td>\n",
       "      <td>US01</td>\n",
       "      <td>Survivor: Borneo</td>\n",
       "      <td>1</td>\n",
       "      <td>3</td>\n",
       "      <td>9</td>\n",
       "      <td>2</td>\n",
       "      <td>Quest for Food</td>\n",
       "      <td>Rescue Mission</td>\n",
       "      <td>Immunity</td>\n",
       "      <td>Tribal</td>\n",
       "      <td>CH0021</td>\n",
       "      <td>list(winner_id = c(\"US0004\", \"US0006\", \"US0007...</td>\n",
       "    </tr>\n",
       "    <tr>\n",
       "      <th>4</th>\n",
       "      <td>US</td>\n",
       "      <td>US01</td>\n",
       "      <td>Survivor: Borneo</td>\n",
       "      <td>1</td>\n",
       "      <td>3</td>\n",
       "      <td>9</td>\n",
       "      <td>2</td>\n",
       "      <td>Quest for Food</td>\n",
       "      <td>Treasure Chest</td>\n",
       "      <td>Reward</td>\n",
       "      <td>Tribal</td>\n",
       "      <td>CH0020</td>\n",
       "      <td>list(winner_id = c(\"US0003\", \"US0005\", \"US0012...</td>\n",
       "    </tr>\n",
       "  </tbody>\n",
       "</table>\n",
       "</div>"
      ],
      "text/plain": [
       "  version version_season       season_name  season  episode  day  order  \\\n",
       "0      US           US01  Survivor: Borneo       1        1    3      0   \n",
       "1      US           US01  Survivor: Borneo       1        2    6      1   \n",
       "2      US           US01  Survivor: Borneo       1        2    6      1   \n",
       "3      US           US01  Survivor: Borneo       1        3    9      2   \n",
       "4      US           US01  Survivor: Borneo       1        3    9      2   \n",
       "\n",
       "        episode_title     challenge_name       challenge_type outcome_type  \\\n",
       "0       The Marooning     Quest for Fire  Reward and Immunity       Tribal   \n",
       "1  The Generation Gap        Buggin' Out             Immunity       Tribal   \n",
       "2  The Generation Gap  Shoulder the Load               Reward       Tribal   \n",
       "3      Quest for Food     Rescue Mission             Immunity       Tribal   \n",
       "4      Quest for Food     Treasure Chest               Reward       Tribal   \n",
       "\n",
       "  challenge_id                                            winners  \n",
       "0       CH0001  list(winner_id = c(\"US0002\", \"US0004\", \"US0006...  \n",
       "1       CH0004  list(winner_id = c(\"US0003\", \"US0005\", \"US0012...  \n",
       "2       CH0357  list(winner_id = c(\"US0002\", \"US0004\", \"US0006...  \n",
       "3       CH0021  list(winner_id = c(\"US0004\", \"US0006\", \"US0007...  \n",
       "4       CH0020  list(winner_id = c(\"US0003\", \"US0005\", \"US0012...  "
      ]
     },
     "execution_count": 10,
     "metadata": {},
     "output_type": "execute_result"
    }
   ],
   "source": [
    "challenge_results.head()"
   ]
  },
  {
   "cell_type": "markdown",
   "id": "6ecaa5b7",
   "metadata": {},
   "source": [
    "The confessionals dataset contains the count of confessionals per castaway per episode. A confessional is when the castaway is speaking directly to the camera about their game."
   ]
  },
  {
   "cell_type": "code",
   "execution_count": 11,
   "id": "aff1304f",
   "metadata": {},
   "outputs": [
    {
     "data": {
      "text/html": [
       "<div>\n",
       "<style scoped>\n",
       "    .dataframe tbody tr th:only-of-type {\n",
       "        vertical-align: middle;\n",
       "    }\n",
       "\n",
       "    .dataframe tbody tr th {\n",
       "        vertical-align: top;\n",
       "    }\n",
       "\n",
       "    .dataframe thead th {\n",
       "        text-align: right;\n",
       "    }\n",
       "</style>\n",
       "<table border=\"1\" class=\"dataframe\">\n",
       "  <thead>\n",
       "    <tr style=\"text-align: right;\">\n",
       "      <th></th>\n",
       "      <th>version</th>\n",
       "      <th>version_season</th>\n",
       "      <th>season_name</th>\n",
       "      <th>season</th>\n",
       "      <th>episode</th>\n",
       "      <th>castaway</th>\n",
       "      <th>castaway_id</th>\n",
       "      <th>confessional_count</th>\n",
       "    </tr>\n",
       "  </thead>\n",
       "  <tbody>\n",
       "    <tr>\n",
       "      <th>0</th>\n",
       "      <td>US</td>\n",
       "      <td>US01</td>\n",
       "      <td>Survivor: Borneo</td>\n",
       "      <td>1</td>\n",
       "      <td>1</td>\n",
       "      <td>B.B.</td>\n",
       "      <td>US0002</td>\n",
       "      <td>3</td>\n",
       "    </tr>\n",
       "    <tr>\n",
       "      <th>1</th>\n",
       "      <td>US</td>\n",
       "      <td>US01</td>\n",
       "      <td>Survivor: Borneo</td>\n",
       "      <td>1</td>\n",
       "      <td>1</td>\n",
       "      <td>Colleen</td>\n",
       "      <td>US0011</td>\n",
       "      <td>0</td>\n",
       "    </tr>\n",
       "    <tr>\n",
       "      <th>2</th>\n",
       "      <td>US</td>\n",
       "      <td>US01</td>\n",
       "      <td>Survivor: Borneo</td>\n",
       "      <td>1</td>\n",
       "      <td>1</td>\n",
       "      <td>Dirk</td>\n",
       "      <td>US0005</td>\n",
       "      <td>1</td>\n",
       "    </tr>\n",
       "    <tr>\n",
       "      <th>3</th>\n",
       "      <td>US</td>\n",
       "      <td>US01</td>\n",
       "      <td>Survivor: Borneo</td>\n",
       "      <td>1</td>\n",
       "      <td>1</td>\n",
       "      <td>Gervase</td>\n",
       "      <td>US0010</td>\n",
       "      <td>0</td>\n",
       "    </tr>\n",
       "    <tr>\n",
       "      <th>4</th>\n",
       "      <td>US</td>\n",
       "      <td>US01</td>\n",
       "      <td>Survivor: Borneo</td>\n",
       "      <td>1</td>\n",
       "      <td>1</td>\n",
       "      <td>Greg</td>\n",
       "      <td>US0008</td>\n",
       "      <td>0</td>\n",
       "    </tr>\n",
       "  </tbody>\n",
       "</table>\n",
       "</div>"
      ],
      "text/plain": [
       "  version version_season       season_name  season  episode castaway  \\\n",
       "0      US           US01  Survivor: Borneo       1        1     B.B.   \n",
       "1      US           US01  Survivor: Borneo       1        1  Colleen   \n",
       "2      US           US01  Survivor: Borneo       1        1     Dirk   \n",
       "3      US           US01  Survivor: Borneo       1        1  Gervase   \n",
       "4      US           US01  Survivor: Borneo       1        1     Greg   \n",
       "\n",
       "  castaway_id  confessional_count  \n",
       "0      US0002                   3  \n",
       "1      US0011                   0  \n",
       "2      US0005                   1  \n",
       "3      US0010                   0  \n",
       "4      US0008                   0  "
      ]
     },
     "execution_count": 11,
     "metadata": {},
     "output_type": "execute_result"
    }
   ],
   "source": [
    "confessionals.head()"
   ]
  },
  {
   "cell_type": "markdown",
   "id": "b1a3ebf5",
   "metadata": {},
   "source": [
    "The hidden_idols dataset contains details on the hidden immunity idols."
   ]
  },
  {
   "cell_type": "code",
   "execution_count": 12,
   "id": "b13c7047",
   "metadata": {},
   "outputs": [
    {
     "data": {
      "text/html": [
       "<div>\n",
       "<style scoped>\n",
       "    .dataframe tbody tr th:only-of-type {\n",
       "        vertical-align: middle;\n",
       "    }\n",
       "\n",
       "    .dataframe tbody tr th {\n",
       "        vertical-align: top;\n",
       "    }\n",
       "\n",
       "    .dataframe thead th {\n",
       "        text-align: right;\n",
       "    }\n",
       "</style>\n",
       "<table border=\"1\" class=\"dataframe\">\n",
       "  <thead>\n",
       "    <tr style=\"text-align: right;\">\n",
       "      <th></th>\n",
       "      <th>season_name</th>\n",
       "      <th>season</th>\n",
       "      <th>castaway_id</th>\n",
       "      <th>castaway</th>\n",
       "      <th>idol_number</th>\n",
       "      <th>idols_held</th>\n",
       "      <th>votes_nullified</th>\n",
       "      <th>day_found</th>\n",
       "      <th>day_played</th>\n",
       "      <th>legacy_advantage</th>\n",
       "    </tr>\n",
       "  </thead>\n",
       "  <tbody>\n",
       "    <tr>\n",
       "      <th>0</th>\n",
       "      <td>Survivor: Guatemala</td>\n",
       "      <td>11</td>\n",
       "      <td>US0161</td>\n",
       "      <td>Gary</td>\n",
       "      <td>1</td>\n",
       "      <td>1</td>\n",
       "      <td>0.0</td>\n",
       "      <td>24.0</td>\n",
       "      <td>NaN</td>\n",
       "      <td>False</td>\n",
       "    </tr>\n",
       "    <tr>\n",
       "      <th>1</th>\n",
       "      <td>Survivor: Panama</td>\n",
       "      <td>12</td>\n",
       "      <td>US0180</td>\n",
       "      <td>Terry</td>\n",
       "      <td>1</td>\n",
       "      <td>1</td>\n",
       "      <td>0.0</td>\n",
       "      <td>NaN</td>\n",
       "      <td>NaN</td>\n",
       "      <td>False</td>\n",
       "    </tr>\n",
       "    <tr>\n",
       "      <th>2</th>\n",
       "      <td>Survivor: Cook Islands</td>\n",
       "      <td>13</td>\n",
       "      <td>US0202</td>\n",
       "      <td>Yul</td>\n",
       "      <td>1</td>\n",
       "      <td>1</td>\n",
       "      <td>0.0</td>\n",
       "      <td>NaN</td>\n",
       "      <td>NaN</td>\n",
       "      <td>False</td>\n",
       "    </tr>\n",
       "    <tr>\n",
       "      <th>3</th>\n",
       "      <td>Survivor: Fiji</td>\n",
       "      <td>14</td>\n",
       "      <td>US0218</td>\n",
       "      <td>Yau-Man</td>\n",
       "      <td>1</td>\n",
       "      <td>1</td>\n",
       "      <td>4.0</td>\n",
       "      <td>17.0</td>\n",
       "      <td>36.0</td>\n",
       "      <td>False</td>\n",
       "    </tr>\n",
       "    <tr>\n",
       "      <th>4</th>\n",
       "      <td>Survivor: Fiji</td>\n",
       "      <td>14</td>\n",
       "      <td>US0214</td>\n",
       "      <td>Mookie</td>\n",
       "      <td>1</td>\n",
       "      <td>1</td>\n",
       "      <td>0.0</td>\n",
       "      <td>20.0</td>\n",
       "      <td>NaN</td>\n",
       "      <td>False</td>\n",
       "    </tr>\n",
       "  </tbody>\n",
       "</table>\n",
       "</div>"
      ],
      "text/plain": [
       "              season_name  season castaway_id castaway  idol_number  \\\n",
       "0     Survivor: Guatemala      11      US0161     Gary            1   \n",
       "1        Survivor: Panama      12      US0180    Terry            1   \n",
       "2  Survivor: Cook Islands      13      US0202      Yul            1   \n",
       "3          Survivor: Fiji      14      US0218  Yau-Man            1   \n",
       "4          Survivor: Fiji      14      US0214   Mookie            1   \n",
       "\n",
       "   idols_held  votes_nullified  day_found  day_played  legacy_advantage  \n",
       "0           1              0.0       24.0         NaN             False  \n",
       "1           1              0.0        NaN         NaN             False  \n",
       "2           1              0.0        NaN         NaN             False  \n",
       "3           1              4.0       17.0        36.0             False  \n",
       "4           1              0.0       20.0         NaN             False  "
      ]
     },
     "execution_count": 12,
     "metadata": {},
     "output_type": "execute_result"
    }
   ],
   "source": [
    "hidden_idols.head()"
   ]
  },
  {
   "cell_type": "markdown",
   "id": "661d75de",
   "metadata": {},
   "source": [
    "The jury_votes dataset contains details on the final jury votes to determine the winner for each season."
   ]
  },
  {
   "cell_type": "code",
   "execution_count": 13,
   "id": "a30b734a",
   "metadata": {},
   "outputs": [
    {
     "data": {
      "text/html": [
       "<div>\n",
       "<style scoped>\n",
       "    .dataframe tbody tr th:only-of-type {\n",
       "        vertical-align: middle;\n",
       "    }\n",
       "\n",
       "    .dataframe tbody tr th {\n",
       "        vertical-align: top;\n",
       "    }\n",
       "\n",
       "    .dataframe thead th {\n",
       "        text-align: right;\n",
       "    }\n",
       "</style>\n",
       "<table border=\"1\" class=\"dataframe\">\n",
       "  <thead>\n",
       "    <tr style=\"text-align: right;\">\n",
       "      <th></th>\n",
       "      <th>version</th>\n",
       "      <th>version_season</th>\n",
       "      <th>season_name</th>\n",
       "      <th>season</th>\n",
       "      <th>castaway</th>\n",
       "      <th>finalist</th>\n",
       "      <th>vote</th>\n",
       "      <th>castaway_id</th>\n",
       "      <th>finalist_id</th>\n",
       "    </tr>\n",
       "  </thead>\n",
       "  <tbody>\n",
       "    <tr>\n",
       "      <th>0</th>\n",
       "      <td>US</td>\n",
       "      <td>US01</td>\n",
       "      <td>Survivor: Borneo</td>\n",
       "      <td>1</td>\n",
       "      <td>Colleen</td>\n",
       "      <td>Kelly</td>\n",
       "      <td>1</td>\n",
       "      <td>US0011</td>\n",
       "      <td>US0015</td>\n",
       "    </tr>\n",
       "    <tr>\n",
       "      <th>1</th>\n",
       "      <td>US</td>\n",
       "      <td>US01</td>\n",
       "      <td>Survivor: Borneo</td>\n",
       "      <td>1</td>\n",
       "      <td>Gervase</td>\n",
       "      <td>Kelly</td>\n",
       "      <td>1</td>\n",
       "      <td>US0010</td>\n",
       "      <td>US0015</td>\n",
       "    </tr>\n",
       "    <tr>\n",
       "      <th>2</th>\n",
       "      <td>US</td>\n",
       "      <td>US01</td>\n",
       "      <td>Survivor: Borneo</td>\n",
       "      <td>1</td>\n",
       "      <td>Greg</td>\n",
       "      <td>Kelly</td>\n",
       "      <td>0</td>\n",
       "      <td>US0008</td>\n",
       "      <td>US0015</td>\n",
       "    </tr>\n",
       "    <tr>\n",
       "      <th>3</th>\n",
       "      <td>US</td>\n",
       "      <td>US01</td>\n",
       "      <td>Survivor: Borneo</td>\n",
       "      <td>1</td>\n",
       "      <td>Jenna</td>\n",
       "      <td>Kelly</td>\n",
       "      <td>1</td>\n",
       "      <td>US0009</td>\n",
       "      <td>US0015</td>\n",
       "    </tr>\n",
       "    <tr>\n",
       "      <th>4</th>\n",
       "      <td>US</td>\n",
       "      <td>US01</td>\n",
       "      <td>Survivor: Borneo</td>\n",
       "      <td>1</td>\n",
       "      <td>Rudy</td>\n",
       "      <td>Kelly</td>\n",
       "      <td>0</td>\n",
       "      <td>US0014</td>\n",
       "      <td>US0015</td>\n",
       "    </tr>\n",
       "  </tbody>\n",
       "</table>\n",
       "</div>"
      ],
      "text/plain": [
       "  version version_season       season_name  season castaway finalist  vote  \\\n",
       "0      US           US01  Survivor: Borneo       1  Colleen    Kelly     1   \n",
       "1      US           US01  Survivor: Borneo       1  Gervase    Kelly     1   \n",
       "2      US           US01  Survivor: Borneo       1     Greg    Kelly     0   \n",
       "3      US           US01  Survivor: Borneo       1    Jenna    Kelly     1   \n",
       "4      US           US01  Survivor: Borneo       1     Rudy    Kelly     0   \n",
       "\n",
       "  castaway_id finalist_id  \n",
       "0      US0011      US0015  \n",
       "1      US0010      US0015  \n",
       "2      US0008      US0015  \n",
       "3      US0009      US0015  \n",
       "4      US0014      US0015  "
      ]
     },
     "execution_count": 13,
     "metadata": {},
     "output_type": "execute_result"
    }
   ],
   "source": [
    "jury_votes.head()"
   ]
  },
  {
   "cell_type": "markdown",
   "id": "8ff8bcad",
   "metadata": {},
   "source": [
    "The season_summary dataset contains a summary of all the seasons of Survivor."
   ]
  },
  {
   "cell_type": "code",
   "execution_count": 14,
   "id": "743e4aee",
   "metadata": {},
   "outputs": [
    {
     "data": {
      "text/html": [
       "<div>\n",
       "<style scoped>\n",
       "    .dataframe tbody tr th:only-of-type {\n",
       "        vertical-align: middle;\n",
       "    }\n",
       "\n",
       "    .dataframe tbody tr th {\n",
       "        vertical-align: top;\n",
       "    }\n",
       "\n",
       "    .dataframe thead th {\n",
       "        text-align: right;\n",
       "    }\n",
       "</style>\n",
       "<table border=\"1\" class=\"dataframe\">\n",
       "  <thead>\n",
       "    <tr style=\"text-align: right;\">\n",
       "      <th></th>\n",
       "      <th>version</th>\n",
       "      <th>version_season</th>\n",
       "      <th>season_name</th>\n",
       "      <th>season</th>\n",
       "      <th>location</th>\n",
       "      <th>country</th>\n",
       "      <th>tribe_setup</th>\n",
       "      <th>full_name</th>\n",
       "      <th>winner_id</th>\n",
       "      <th>winner</th>\n",
       "      <th>...</th>\n",
       "      <th>timeslot</th>\n",
       "      <th>premiered</th>\n",
       "      <th>ended</th>\n",
       "      <th>filming_started</th>\n",
       "      <th>filming_ended</th>\n",
       "      <th>viewers_premier</th>\n",
       "      <th>viewers_finale</th>\n",
       "      <th>viewers_reunion</th>\n",
       "      <th>viewers_mean</th>\n",
       "      <th>rank</th>\n",
       "    </tr>\n",
       "  </thead>\n",
       "  <tbody>\n",
       "    <tr>\n",
       "      <th>0</th>\n",
       "      <td>US</td>\n",
       "      <td>US01</td>\n",
       "      <td>Survivor: Borneo</td>\n",
       "      <td>1</td>\n",
       "      <td>Pulau Tiga, Sabah, Malaysia</td>\n",
       "      <td>Malaysia</td>\n",
       "      <td>Two tribes of eight new players</td>\n",
       "      <td>Richard Hatch</td>\n",
       "      <td>US0016</td>\n",
       "      <td>Richard</td>\n",
       "      <td>...</td>\n",
       "      <td>Wednesday 8:00 pm</td>\n",
       "      <td>2000-05-31</td>\n",
       "      <td>2000-08-23</td>\n",
       "      <td>2000-03-13</td>\n",
       "      <td>2000-04-20</td>\n",
       "      <td>15.51</td>\n",
       "      <td>51.69</td>\n",
       "      <td>36.70</td>\n",
       "      <td>28.30</td>\n",
       "      <td>2.0</td>\n",
       "    </tr>\n",
       "    <tr>\n",
       "      <th>1</th>\n",
       "      <td>US</td>\n",
       "      <td>US02</td>\n",
       "      <td>Survivor: The Australian Outback</td>\n",
       "      <td>2</td>\n",
       "      <td>Herbert River at Goshen Station, Queensland, A...</td>\n",
       "      <td>Australia</td>\n",
       "      <td>Two tribes of eight new players</td>\n",
       "      <td>Tina Wesson</td>\n",
       "      <td>US0032</td>\n",
       "      <td>Tina</td>\n",
       "      <td>...</td>\n",
       "      <td>Thursday 8:00 pm</td>\n",
       "      <td>2001-01-28</td>\n",
       "      <td>2001-05-03</td>\n",
       "      <td>2000-10-23</td>\n",
       "      <td>2000-12-03</td>\n",
       "      <td>45.37</td>\n",
       "      <td>36.35</td>\n",
       "      <td>28.01</td>\n",
       "      <td>29.80</td>\n",
       "      <td>1.0</td>\n",
       "    </tr>\n",
       "    <tr>\n",
       "      <th>2</th>\n",
       "      <td>US</td>\n",
       "      <td>US03</td>\n",
       "      <td>Survivor: Africa</td>\n",
       "      <td>3</td>\n",
       "      <td>Shaba National Reserve, Kenya</td>\n",
       "      <td>Kenya</td>\n",
       "      <td>Two tribes of eight new players</td>\n",
       "      <td>Ethan Zohn</td>\n",
       "      <td>US0048</td>\n",
       "      <td>Ethan</td>\n",
       "      <td>...</td>\n",
       "      <td>Thursday 8:00 pm</td>\n",
       "      <td>2001-10-11</td>\n",
       "      <td>2002-01-10</td>\n",
       "      <td>2001-07-11</td>\n",
       "      <td>2001-08-18</td>\n",
       "      <td>23.84</td>\n",
       "      <td>27.26</td>\n",
       "      <td>19.05</td>\n",
       "      <td>20.69</td>\n",
       "      <td>8.0</td>\n",
       "    </tr>\n",
       "    <tr>\n",
       "      <th>3</th>\n",
       "      <td>US</td>\n",
       "      <td>US04</td>\n",
       "      <td>Survivor: Marquesas</td>\n",
       "      <td>4</td>\n",
       "      <td>Nuku Hiva, Marquesas Islands, French Polynesia</td>\n",
       "      <td>Polynesia</td>\n",
       "      <td>Two tribes of eight new players</td>\n",
       "      <td>Vecepia Towery</td>\n",
       "      <td>US0064</td>\n",
       "      <td>Vecepia</td>\n",
       "      <td>...</td>\n",
       "      <td>Thursday 8:00 pm</td>\n",
       "      <td>2002-02-28</td>\n",
       "      <td>2002-05-19</td>\n",
       "      <td>2001-11-12</td>\n",
       "      <td>2001-12-20</td>\n",
       "      <td>23.19</td>\n",
       "      <td>25.87</td>\n",
       "      <td>19.05</td>\n",
       "      <td>20.77</td>\n",
       "      <td>6.0</td>\n",
       "    </tr>\n",
       "    <tr>\n",
       "      <th>4</th>\n",
       "      <td>US</td>\n",
       "      <td>US05</td>\n",
       "      <td>Survivor: Thailand</td>\n",
       "      <td>5</td>\n",
       "      <td>Ko Tarutao, Satun Province, Thailand</td>\n",
       "      <td>Thailand</td>\n",
       "      <td>Two tribes of eight new players; picked by the...</td>\n",
       "      <td>Brian Heidik</td>\n",
       "      <td>US0080</td>\n",
       "      <td>Brian</td>\n",
       "      <td>...</td>\n",
       "      <td>Thursday 8:00 pm</td>\n",
       "      <td>2002-09-19</td>\n",
       "      <td>2002-12-19</td>\n",
       "      <td>2002-06-10</td>\n",
       "      <td>2002-07-18</td>\n",
       "      <td>23.05</td>\n",
       "      <td>24.08</td>\n",
       "      <td>20.43</td>\n",
       "      <td>21.21</td>\n",
       "      <td>4.0</td>\n",
       "    </tr>\n",
       "  </tbody>\n",
       "</table>\n",
       "<p>5 rows × 22 columns</p>\n",
       "</div>"
      ],
      "text/plain": [
       "  version version_season                       season_name  season  \\\n",
       "0      US           US01                  Survivor: Borneo       1   \n",
       "1      US           US02  Survivor: The Australian Outback       2   \n",
       "2      US           US03                  Survivor: Africa       3   \n",
       "3      US           US04               Survivor: Marquesas       4   \n",
       "4      US           US05                Survivor: Thailand       5   \n",
       "\n",
       "                                            location    country  \\\n",
       "0                        Pulau Tiga, Sabah, Malaysia   Malaysia   \n",
       "1  Herbert River at Goshen Station, Queensland, A...  Australia   \n",
       "2                      Shaba National Reserve, Kenya      Kenya   \n",
       "3     Nuku Hiva, Marquesas Islands, French Polynesia  Polynesia   \n",
       "4               Ko Tarutao, Satun Province, Thailand   Thailand   \n",
       "\n",
       "                                         tribe_setup       full_name  \\\n",
       "0                    Two tribes of eight new players   Richard Hatch   \n",
       "1                    Two tribes of eight new players     Tina Wesson   \n",
       "2                    Two tribes of eight new players      Ethan Zohn   \n",
       "3                    Two tribes of eight new players  Vecepia Towery   \n",
       "4  Two tribes of eight new players; picked by the...    Brian Heidik   \n",
       "\n",
       "  winner_id   winner  ...           timeslot   premiered       ended  \\\n",
       "0    US0016  Richard  ...  Wednesday 8:00 pm  2000-05-31  2000-08-23   \n",
       "1    US0032     Tina  ...   Thursday 8:00 pm  2001-01-28  2001-05-03   \n",
       "2    US0048    Ethan  ...   Thursday 8:00 pm  2001-10-11  2002-01-10   \n",
       "3    US0064  Vecepia  ...   Thursday 8:00 pm  2002-02-28  2002-05-19   \n",
       "4    US0080    Brian  ...   Thursday 8:00 pm  2002-09-19  2002-12-19   \n",
       "\n",
       "  filming_started filming_ended viewers_premier viewers_finale  \\\n",
       "0      2000-03-13    2000-04-20           15.51          51.69   \n",
       "1      2000-10-23    2000-12-03           45.37          36.35   \n",
       "2      2001-07-11    2001-08-18           23.84          27.26   \n",
       "3      2001-11-12    2001-12-20           23.19          25.87   \n",
       "4      2002-06-10    2002-07-18           23.05          24.08   \n",
       "\n",
       "   viewers_reunion  viewers_mean  rank  \n",
       "0            36.70         28.30   2.0  \n",
       "1            28.01         29.80   1.0  \n",
       "2            19.05         20.69   8.0  \n",
       "3            19.05         20.77   6.0  \n",
       "4            20.43         21.21   4.0  \n",
       "\n",
       "[5 rows x 22 columns]"
      ]
     },
     "execution_count": 14,
     "metadata": {},
     "output_type": "execute_result"
    }
   ],
   "source": [
    "season_summary.head()"
   ]
  },
  {
   "cell_type": "markdown",
   "id": "8ac2dcfd",
   "metadata": {},
   "source": [
    "The tribe_colours dataset contains the tribe colours for each season."
   ]
  },
  {
   "cell_type": "code",
   "execution_count": 15,
   "id": "0f7d3f8d",
   "metadata": {},
   "outputs": [
    {
     "data": {
      "text/html": [
       "<div>\n",
       "<style scoped>\n",
       "    .dataframe tbody tr th:only-of-type {\n",
       "        vertical-align: middle;\n",
       "    }\n",
       "\n",
       "    .dataframe tbody tr th {\n",
       "        vertical-align: top;\n",
       "    }\n",
       "\n",
       "    .dataframe thead th {\n",
       "        text-align: right;\n",
       "    }\n",
       "</style>\n",
       "<table border=\"1\" class=\"dataframe\">\n",
       "  <thead>\n",
       "    <tr style=\"text-align: right;\">\n",
       "      <th></th>\n",
       "      <th>version</th>\n",
       "      <th>version_season</th>\n",
       "      <th>season_name</th>\n",
       "      <th>season</th>\n",
       "      <th>tribe</th>\n",
       "      <th>tribe_colour</th>\n",
       "      <th>tribe_status</th>\n",
       "    </tr>\n",
       "  </thead>\n",
       "  <tbody>\n",
       "    <tr>\n",
       "      <th>0</th>\n",
       "      <td>US</td>\n",
       "      <td>US01</td>\n",
       "      <td>Survivor: Borneo</td>\n",
       "      <td>1</td>\n",
       "      <td>Pagong</td>\n",
       "      <td>#FFFF05</td>\n",
       "      <td>Original</td>\n",
       "    </tr>\n",
       "    <tr>\n",
       "      <th>1</th>\n",
       "      <td>US</td>\n",
       "      <td>US01</td>\n",
       "      <td>Survivor: Borneo</td>\n",
       "      <td>1</td>\n",
       "      <td>Rattana</td>\n",
       "      <td>#7CFC00</td>\n",
       "      <td>Merged</td>\n",
       "    </tr>\n",
       "    <tr>\n",
       "      <th>2</th>\n",
       "      <td>US</td>\n",
       "      <td>US01</td>\n",
       "      <td>Survivor: Borneo</td>\n",
       "      <td>1</td>\n",
       "      <td>Tagi</td>\n",
       "      <td>#FF9900</td>\n",
       "      <td>Original</td>\n",
       "    </tr>\n",
       "    <tr>\n",
       "      <th>3</th>\n",
       "      <td>US</td>\n",
       "      <td>US02</td>\n",
       "      <td>Survivor: The Australian Outback</td>\n",
       "      <td>2</td>\n",
       "      <td>Barramundi</td>\n",
       "      <td>#FF6600</td>\n",
       "      <td>Merged</td>\n",
       "    </tr>\n",
       "    <tr>\n",
       "      <th>4</th>\n",
       "      <td>US</td>\n",
       "      <td>US02</td>\n",
       "      <td>Survivor: The Australian Outback</td>\n",
       "      <td>2</td>\n",
       "      <td>Kucha</td>\n",
       "      <td>#32CCFF</td>\n",
       "      <td>Original</td>\n",
       "    </tr>\n",
       "  </tbody>\n",
       "</table>\n",
       "</div>"
      ],
      "text/plain": [
       "  version version_season                       season_name  season  \\\n",
       "0      US           US01                  Survivor: Borneo       1   \n",
       "1      US           US01                  Survivor: Borneo       1   \n",
       "2      US           US01                  Survivor: Borneo       1   \n",
       "3      US           US02  Survivor: The Australian Outback       2   \n",
       "4      US           US02  Survivor: The Australian Outback       2   \n",
       "\n",
       "        tribe tribe_colour tribe_status  \n",
       "0      Pagong      #FFFF05     Original  \n",
       "1     Rattana      #7CFC00       Merged  \n",
       "2        Tagi      #FF9900     Original  \n",
       "3  Barramundi      #FF6600       Merged  \n",
       "4       Kucha      #32CCFF     Original  "
      ]
     },
     "execution_count": 15,
     "metadata": {},
     "output_type": "execute_result"
    }
   ],
   "source": [
    "tribe_colours.head()"
   ]
  },
  {
   "cell_type": "markdown",
   "id": "5531a82a",
   "metadata": {},
   "source": [
    "The tribe_mapping dataset is a mapping for castaways to tribes for each day (day being the day of the tribal council) This is useful for observing who is on what tribe throughout the game."
   ]
  },
  {
   "cell_type": "code",
   "execution_count": 16,
   "id": "6a0e00dd",
   "metadata": {},
   "outputs": [
    {
     "data": {
      "text/html": [
       "<div>\n",
       "<style scoped>\n",
       "    .dataframe tbody tr th:only-of-type {\n",
       "        vertical-align: middle;\n",
       "    }\n",
       "\n",
       "    .dataframe tbody tr th {\n",
       "        vertical-align: top;\n",
       "    }\n",
       "\n",
       "    .dataframe thead th {\n",
       "        text-align: right;\n",
       "    }\n",
       "</style>\n",
       "<table border=\"1\" class=\"dataframe\">\n",
       "  <thead>\n",
       "    <tr style=\"text-align: right;\">\n",
       "      <th></th>\n",
       "      <th>version</th>\n",
       "      <th>version_season</th>\n",
       "      <th>season_name</th>\n",
       "      <th>season</th>\n",
       "      <th>episode</th>\n",
       "      <th>day</th>\n",
       "      <th>castaway_id</th>\n",
       "      <th>castaway</th>\n",
       "      <th>tribe</th>\n",
       "      <th>tribe_status</th>\n",
       "    </tr>\n",
       "  </thead>\n",
       "  <tbody>\n",
       "    <tr>\n",
       "      <th>0</th>\n",
       "      <td>US</td>\n",
       "      <td>US01</td>\n",
       "      <td>Survivor: Borneo</td>\n",
       "      <td>1</td>\n",
       "      <td>1</td>\n",
       "      <td>3</td>\n",
       "      <td>US0002</td>\n",
       "      <td>B.B.</td>\n",
       "      <td>Pagong</td>\n",
       "      <td>Original</td>\n",
       "    </tr>\n",
       "    <tr>\n",
       "      <th>1</th>\n",
       "      <td>US</td>\n",
       "      <td>US01</td>\n",
       "      <td>Survivor: Borneo</td>\n",
       "      <td>1</td>\n",
       "      <td>1</td>\n",
       "      <td>3</td>\n",
       "      <td>US0004</td>\n",
       "      <td>Ramona</td>\n",
       "      <td>Pagong</td>\n",
       "      <td>Original</td>\n",
       "    </tr>\n",
       "    <tr>\n",
       "      <th>2</th>\n",
       "      <td>US</td>\n",
       "      <td>US01</td>\n",
       "      <td>Survivor: Borneo</td>\n",
       "      <td>1</td>\n",
       "      <td>1</td>\n",
       "      <td>3</td>\n",
       "      <td>US0006</td>\n",
       "      <td>Joel</td>\n",
       "      <td>Pagong</td>\n",
       "      <td>Original</td>\n",
       "    </tr>\n",
       "    <tr>\n",
       "      <th>3</th>\n",
       "      <td>US</td>\n",
       "      <td>US01</td>\n",
       "      <td>Survivor: Borneo</td>\n",
       "      <td>1</td>\n",
       "      <td>1</td>\n",
       "      <td>3</td>\n",
       "      <td>US0007</td>\n",
       "      <td>Gretchen</td>\n",
       "      <td>Pagong</td>\n",
       "      <td>Original</td>\n",
       "    </tr>\n",
       "    <tr>\n",
       "      <th>4</th>\n",
       "      <td>US</td>\n",
       "      <td>US01</td>\n",
       "      <td>Survivor: Borneo</td>\n",
       "      <td>1</td>\n",
       "      <td>1</td>\n",
       "      <td>3</td>\n",
       "      <td>US0008</td>\n",
       "      <td>Greg</td>\n",
       "      <td>Pagong</td>\n",
       "      <td>Original</td>\n",
       "    </tr>\n",
       "  </tbody>\n",
       "</table>\n",
       "</div>"
      ],
      "text/plain": [
       "  version version_season       season_name  season  episode  day castaway_id  \\\n",
       "0      US           US01  Survivor: Borneo       1        1    3      US0002   \n",
       "1      US           US01  Survivor: Borneo       1        1    3      US0004   \n",
       "2      US           US01  Survivor: Borneo       1        1    3      US0006   \n",
       "3      US           US01  Survivor: Borneo       1        1    3      US0007   \n",
       "4      US           US01  Survivor: Borneo       1        1    3      US0008   \n",
       "\n",
       "   castaway   tribe tribe_status  \n",
       "0      B.B.  Pagong     Original  \n",
       "1    Ramona  Pagong     Original  \n",
       "2      Joel  Pagong     Original  \n",
       "3  Gretchen  Pagong     Original  \n",
       "4      Greg  Pagong     Original  "
      ]
     },
     "execution_count": 16,
     "metadata": {},
     "output_type": "execute_result"
    }
   ],
   "source": [
    "tribe_mapping.head()"
   ]
  },
  {
   "cell_type": "markdown",
   "id": "93aa0d4d",
   "metadata": {},
   "source": [
    "The vote_history dataset contains details on the vote history for each season."
   ]
  },
  {
   "cell_type": "code",
   "execution_count": 17,
   "id": "e379d286",
   "metadata": {},
   "outputs": [
    {
     "data": {
      "text/html": [
       "<div>\n",
       "<style scoped>\n",
       "    .dataframe tbody tr th:only-of-type {\n",
       "        vertical-align: middle;\n",
       "    }\n",
       "\n",
       "    .dataframe tbody tr th {\n",
       "        vertical-align: top;\n",
       "    }\n",
       "\n",
       "    .dataframe thead th {\n",
       "        text-align: right;\n",
       "    }\n",
       "</style>\n",
       "<table border=\"1\" class=\"dataframe\">\n",
       "  <thead>\n",
       "    <tr style=\"text-align: right;\">\n",
       "      <th></th>\n",
       "      <th>version</th>\n",
       "      <th>version_season</th>\n",
       "      <th>season_name</th>\n",
       "      <th>season</th>\n",
       "      <th>episode</th>\n",
       "      <th>day</th>\n",
       "      <th>tribe_status</th>\n",
       "      <th>tribe</th>\n",
       "      <th>castaway</th>\n",
       "      <th>immunity</th>\n",
       "      <th>...</th>\n",
       "      <th>vote_event</th>\n",
       "      <th>split_vote</th>\n",
       "      <th>nullified</th>\n",
       "      <th>tie</th>\n",
       "      <th>voted_out</th>\n",
       "      <th>order</th>\n",
       "      <th>vote_order</th>\n",
       "      <th>castaway_id</th>\n",
       "      <th>vote_id</th>\n",
       "      <th>voted_out_id</th>\n",
       "    </tr>\n",
       "  </thead>\n",
       "  <tbody>\n",
       "    <tr>\n",
       "      <th>0</th>\n",
       "      <td>US</td>\n",
       "      <td>US01</td>\n",
       "      <td>Survivor: Borneo</td>\n",
       "      <td>1</td>\n",
       "      <td>1</td>\n",
       "      <td>3</td>\n",
       "      <td>Original</td>\n",
       "      <td>Tagi</td>\n",
       "      <td>Sonja</td>\n",
       "      <td>NaN</td>\n",
       "      <td>...</td>\n",
       "      <td>NaN</td>\n",
       "      <td>NaN</td>\n",
       "      <td>False</td>\n",
       "      <td>False</td>\n",
       "      <td>Sonja</td>\n",
       "      <td>1</td>\n",
       "      <td>1</td>\n",
       "      <td>US0001</td>\n",
       "      <td>US0014</td>\n",
       "      <td>US0001</td>\n",
       "    </tr>\n",
       "    <tr>\n",
       "      <th>1</th>\n",
       "      <td>US</td>\n",
       "      <td>US01</td>\n",
       "      <td>Survivor: Borneo</td>\n",
       "      <td>1</td>\n",
       "      <td>1</td>\n",
       "      <td>3</td>\n",
       "      <td>Original</td>\n",
       "      <td>Tagi</td>\n",
       "      <td>Stacey</td>\n",
       "      <td>NaN</td>\n",
       "      <td>...</td>\n",
       "      <td>NaN</td>\n",
       "      <td>NaN</td>\n",
       "      <td>False</td>\n",
       "      <td>False</td>\n",
       "      <td>Sonja</td>\n",
       "      <td>1</td>\n",
       "      <td>1</td>\n",
       "      <td>US0003</td>\n",
       "      <td>US0014</td>\n",
       "      <td>US0001</td>\n",
       "    </tr>\n",
       "    <tr>\n",
       "      <th>2</th>\n",
       "      <td>US</td>\n",
       "      <td>US01</td>\n",
       "      <td>Survivor: Borneo</td>\n",
       "      <td>1</td>\n",
       "      <td>1</td>\n",
       "      <td>3</td>\n",
       "      <td>Original</td>\n",
       "      <td>Tagi</td>\n",
       "      <td>Dirk</td>\n",
       "      <td>NaN</td>\n",
       "      <td>...</td>\n",
       "      <td>NaN</td>\n",
       "      <td>NaN</td>\n",
       "      <td>False</td>\n",
       "      <td>False</td>\n",
       "      <td>Sonja</td>\n",
       "      <td>1</td>\n",
       "      <td>1</td>\n",
       "      <td>US0005</td>\n",
       "      <td>US0001</td>\n",
       "      <td>US0001</td>\n",
       "    </tr>\n",
       "    <tr>\n",
       "      <th>3</th>\n",
       "      <td>US</td>\n",
       "      <td>US01</td>\n",
       "      <td>Survivor: Borneo</td>\n",
       "      <td>1</td>\n",
       "      <td>1</td>\n",
       "      <td>3</td>\n",
       "      <td>Original</td>\n",
       "      <td>Tagi</td>\n",
       "      <td>Sean</td>\n",
       "      <td>NaN</td>\n",
       "      <td>...</td>\n",
       "      <td>NaN</td>\n",
       "      <td>NaN</td>\n",
       "      <td>False</td>\n",
       "      <td>False</td>\n",
       "      <td>Sonja</td>\n",
       "      <td>1</td>\n",
       "      <td>1</td>\n",
       "      <td>US0012</td>\n",
       "      <td>US0001</td>\n",
       "      <td>US0001</td>\n",
       "    </tr>\n",
       "    <tr>\n",
       "      <th>4</th>\n",
       "      <td>US</td>\n",
       "      <td>US01</td>\n",
       "      <td>Survivor: Borneo</td>\n",
       "      <td>1</td>\n",
       "      <td>1</td>\n",
       "      <td>3</td>\n",
       "      <td>Original</td>\n",
       "      <td>Tagi</td>\n",
       "      <td>Sue</td>\n",
       "      <td>NaN</td>\n",
       "      <td>...</td>\n",
       "      <td>NaN</td>\n",
       "      <td>NaN</td>\n",
       "      <td>False</td>\n",
       "      <td>False</td>\n",
       "      <td>Sonja</td>\n",
       "      <td>1</td>\n",
       "      <td>1</td>\n",
       "      <td>US0013</td>\n",
       "      <td>US0001</td>\n",
       "      <td>US0001</td>\n",
       "    </tr>\n",
       "  </tbody>\n",
       "</table>\n",
       "<p>5 rows × 21 columns</p>\n",
       "</div>"
      ],
      "text/plain": [
       "  version version_season       season_name  season  episode  day tribe_status  \\\n",
       "0      US           US01  Survivor: Borneo       1        1    3     Original   \n",
       "1      US           US01  Survivor: Borneo       1        1    3     Original   \n",
       "2      US           US01  Survivor: Borneo       1        1    3     Original   \n",
       "3      US           US01  Survivor: Borneo       1        1    3     Original   \n",
       "4      US           US01  Survivor: Borneo       1        1    3     Original   \n",
       "\n",
       "  tribe castaway immunity  ... vote_event split_vote nullified    tie  \\\n",
       "0  Tagi    Sonja      NaN  ...        NaN        NaN     False  False   \n",
       "1  Tagi   Stacey      NaN  ...        NaN        NaN     False  False   \n",
       "2  Tagi     Dirk      NaN  ...        NaN        NaN     False  False   \n",
       "3  Tagi     Sean      NaN  ...        NaN        NaN     False  False   \n",
       "4  Tagi      Sue      NaN  ...        NaN        NaN     False  False   \n",
       "\n",
       "   voted_out order  vote_order  castaway_id vote_id voted_out_id  \n",
       "0      Sonja     1           1       US0001  US0014       US0001  \n",
       "1      Sonja     1           1       US0003  US0014       US0001  \n",
       "2      Sonja     1           1       US0005  US0001       US0001  \n",
       "3      Sonja     1           1       US0012  US0001       US0001  \n",
       "4      Sonja     1           1       US0013  US0001       US0001  \n",
       "\n",
       "[5 rows x 21 columns]"
      ]
     },
     "execution_count": 17,
     "metadata": {},
     "output_type": "execute_result"
    }
   ],
   "source": [
    "vote_history.head()"
   ]
  },
  {
   "cell_type": "markdown",
   "id": "b6d65c50",
   "metadata": {},
   "source": [
    "__________"
   ]
  },
  {
   "cell_type": "code",
   "execution_count": 18,
   "id": "20813784",
   "metadata": {},
   "outputs": [
    {
     "data": {
      "text/plain": [
       "array(['Found', 'Played', 'Expired', 'Received',\n",
       "       'Voted out with advantage', 'Activated', 'Destroyed', 'Absorbed'],\n",
       "      dtype=object)"
      ]
     },
     "execution_count": 18,
     "metadata": {},
     "output_type": "execute_result"
    }
   ],
   "source": [
    "advantage_movement['event'].unique()"
   ]
  },
  {
   "cell_type": "markdown",
   "id": "7ca1b77a",
   "metadata": {},
   "source": [
    "____________________________"
   ]
  },
  {
   "cell_type": "markdown",
   "id": "38951e12",
   "metadata": {},
   "source": [
    "**Exploratory Data Analysis**"
   ]
  },
  {
   "cell_type": "code",
   "execution_count": 19,
   "id": "40277c2b",
   "metadata": {},
   "outputs": [
    {
     "data": {
      "text/plain": [
       "gender\n",
       "Female        312\n",
       "Male          313\n",
       "Non-binary      1\n",
       "Name: castaway_id, dtype: int64"
      ]
     },
     "execution_count": 19,
     "metadata": {},
     "output_type": "execute_result"
    }
   ],
   "source": [
    "castaway_details.groupby('gender')['castaway_id'].count()"
   ]
  },
  {
   "cell_type": "markdown",
   "id": "5c0b0d5d",
   "metadata": {},
   "source": [
    "Gender is evenly distributed between male and female."
   ]
  },
  {
   "cell_type": "code",
   "execution_count": 20,
   "id": "0d726e9b",
   "metadata": {},
   "outputs": [
    {
     "data": {
      "text/plain": [
       "poc\n",
       "POC      186\n",
       "White    440\n",
       "Name: castaway_id, dtype: int64"
      ]
     },
     "execution_count": 20,
     "metadata": {},
     "output_type": "execute_result"
    }
   ],
   "source": [
    "castaway_details.groupby('poc')['castaway_id'].count()"
   ]
  },
  {
   "cell_type": "markdown",
   "id": "01334038",
   "metadata": {},
   "source": [
    "There have been a lot more white players than players of color."
   ]
  },
  {
   "cell_type": "code",
   "execution_count": 21,
   "id": "e90b2ba6",
   "metadata": {},
   "outputs": [
    {
     "data": {
      "text/plain": [
       "personality_type\n",
       "ENFP    77\n",
       "ESFP    70\n",
       "ISFP    67\n",
       "ESTP    64\n",
       "ESTJ    56\n",
       "INFP    55\n",
       "ISTJ    53\n",
       "ENTP    51\n",
       "INTP    42\n",
       "ENFJ    41\n",
       "ESFJ    40\n",
       "ISFJ    37\n",
       "ENTJ    34\n",
       "ISTP    34\n",
       "INFJ    29\n",
       "INTJ    27\n",
       "Name: castaway_id, dtype: int64"
      ]
     },
     "execution_count": 21,
     "metadata": {},
     "output_type": "execute_result"
    }
   ],
   "source": [
    "castaways.groupby('personality_type')['castaway_id'].count().sort_values(ascending=False) # two NaN values"
   ]
  },
  {
   "cell_type": "code",
   "execution_count": 22,
   "id": "8e811be8",
   "metadata": {},
   "outputs": [
    {
     "data": {
      "text/plain": [
       "<seaborn.axisgrid.FacetGrid at 0x7fb73025f1c0>"
      ]
     },
     "execution_count": 22,
     "metadata": {},
     "output_type": "execute_result"
    },
    {
     "data": {
      "image/png": "[encoded data removed]",
      "text/plain": [
       "<Figure size 670.625x500 with 1 Axes>"
      ]
     },
     "metadata": {
      "image/png": {
       "height": 489,
       "width": 641
      }
     },
     "output_type": "display_data"
    }
   ],
   "source": [
    "castaways_copy = castaways.copy()\n",
    "castaways_copy['result'] = castaways_copy['result'].apply(lambda x: x if x == 'Sole Survivor' else 'Not Sole Survivor')\n",
    "\n",
    "sns.catplot(y=\"personality_type\", hue=\"result\", kind=\"count\",\n",
    "            palette=\"pastel\", edgecolor=\".6\",\n",
    "            data=castaways_copy)"
   ]
  },
  {
   "cell_type": "code",
   "execution_count": 23,
   "id": "1bf02000",
   "metadata": {},
   "outputs": [
    {
     "data": {
      "text/html": [
       "<div>\n",
       "<style scoped>\n",
       "    .dataframe tbody tr th:only-of-type {\n",
       "        vertical-align: middle;\n",
       "    }\n",
       "\n",
       "    .dataframe tbody tr th {\n",
       "        vertical-align: top;\n",
       "    }\n",
       "\n",
       "    .dataframe thead th {\n",
       "        text-align: right;\n",
       "    }\n",
       "</style>\n",
       "<table border=\"1\" class=\"dataframe\">\n",
       "  <thead>\n",
       "    <tr style=\"text-align: right;\">\n",
       "      <th>result</th>\n",
       "      <th>Not Sole Survivor</th>\n",
       "      <th>Sole Survivor</th>\n",
       "    </tr>\n",
       "    <tr>\n",
       "      <th>personality_type</th>\n",
       "      <th></th>\n",
       "      <th></th>\n",
       "    </tr>\n",
       "  </thead>\n",
       "  <tbody>\n",
       "    <tr>\n",
       "      <th>ENFJ</th>\n",
       "      <td>38</td>\n",
       "      <td>3</td>\n",
       "    </tr>\n",
       "    <tr>\n",
       "      <th>ENFP</th>\n",
       "      <td>74</td>\n",
       "      <td>3</td>\n",
       "    </tr>\n",
       "    <tr>\n",
       "      <th>ENTJ</th>\n",
       "      <td>33</td>\n",
       "      <td>1</td>\n",
       "    </tr>\n",
       "    <tr>\n",
       "      <th>ENTP</th>\n",
       "      <td>46</td>\n",
       "      <td>5</td>\n",
       "    </tr>\n",
       "    <tr>\n",
       "      <th>ESFJ</th>\n",
       "      <td>39</td>\n",
       "      <td>1</td>\n",
       "    </tr>\n",
       "    <tr>\n",
       "      <th>ESFP</th>\n",
       "      <td>67</td>\n",
       "      <td>3</td>\n",
       "    </tr>\n",
       "    <tr>\n",
       "      <th>ESTJ</th>\n",
       "      <td>53</td>\n",
       "      <td>3</td>\n",
       "    </tr>\n",
       "    <tr>\n",
       "      <th>ESTP</th>\n",
       "      <td>56</td>\n",
       "      <td>8</td>\n",
       "    </tr>\n",
       "    <tr>\n",
       "      <th>INFJ</th>\n",
       "      <td>25</td>\n",
       "      <td>4</td>\n",
       "    </tr>\n",
       "    <tr>\n",
       "      <th>INFP</th>\n",
       "      <td>54</td>\n",
       "      <td>1</td>\n",
       "    </tr>\n",
       "    <tr>\n",
       "      <th>INTJ</th>\n",
       "      <td>25</td>\n",
       "      <td>2</td>\n",
       "    </tr>\n",
       "    <tr>\n",
       "      <th>INTP</th>\n",
       "      <td>40</td>\n",
       "      <td>2</td>\n",
       "    </tr>\n",
       "    <tr>\n",
       "      <th>ISFJ</th>\n",
       "      <td>36</td>\n",
       "      <td>1</td>\n",
       "    </tr>\n",
       "    <tr>\n",
       "      <th>ISFP</th>\n",
       "      <td>65</td>\n",
       "      <td>2</td>\n",
       "    </tr>\n",
       "    <tr>\n",
       "      <th>ISTJ</th>\n",
       "      <td>52</td>\n",
       "      <td>1</td>\n",
       "    </tr>\n",
       "    <tr>\n",
       "      <th>ISTP</th>\n",
       "      <td>32</td>\n",
       "      <td>2</td>\n",
       "    </tr>\n",
       "  </tbody>\n",
       "</table>\n",
       "</div>"
      ],
      "text/plain": [
       "result            Not Sole Survivor  Sole Survivor\n",
       "personality_type                                  \n",
       "ENFJ                             38              3\n",
       "ENFP                             74              3\n",
       "ENTJ                             33              1\n",
       "ENTP                             46              5\n",
       "ESFJ                             39              1\n",
       "ESFP                             67              3\n",
       "ESTJ                             53              3\n",
       "ESTP                             56              8\n",
       "INFJ                             25              4\n",
       "INFP                             54              1\n",
       "INTJ                             25              2\n",
       "INTP                             40              2\n",
       "ISFJ                             36              1\n",
       "ISFP                             65              2\n",
       "ISTJ                             52              1\n",
       "ISTP                             32              2"
      ]
     },
     "execution_count": 23,
     "metadata": {},
     "output_type": "execute_result"
    }
   ],
   "source": [
    "win_by_personality = pd.pivot_table(castaways_copy, columns='result', index='personality_type', values='age', aggfunc='count')\n",
    "win_by_personality"
   ]
  },
  {
   "cell_type": "code",
   "execution_count": 24,
   "id": "d46bd630",
   "metadata": {},
   "outputs": [
    {
     "data": {
      "text/plain": [
       "personality_type\n",
       "INFJ    0.137931\n",
       "ESTP    0.125000\n",
       "ENTP    0.098039\n",
       "INTJ    0.074074\n",
       "ENFJ    0.073171\n",
       "ISTP    0.058824\n",
       "ESTJ    0.053571\n",
       "INTP    0.047619\n",
       "ESFP    0.042857\n",
       "ENFP    0.038961\n",
       "ISFP    0.029851\n",
       "ENTJ    0.029412\n",
       "ISFJ    0.027027\n",
       "ESFJ    0.025000\n",
       "ISTJ    0.018868\n",
       "INFP    0.018182\n",
       "dtype: float64"
      ]
     },
     "execution_count": 24,
     "metadata": {},
     "output_type": "execute_result"
    }
   ],
   "source": [
    "(win_by_personality['Sole Survivor'] / (win_by_personality['Sole Survivor'] + win_by_personality['Not Sole Survivor'])).sort_values(ascending=False)"
   ]
  },
  {
   "cell_type": "markdown",
   "id": "630ba3db",
   "metadata": {},
   "source": [
    "The personality types that have won most often are INFJ, ESTP, and ENTP."
   ]
  },
  {
   "cell_type": "markdown",
   "id": "e373bfed",
   "metadata": {},
   "source": [
    "__________________"
   ]
  },
  {
   "cell_type": "markdown",
   "id": "55da5dba",
   "metadata": {},
   "source": [
    "Predict winner only based on castaway characteristics and traits (gender, age, poc, personality type, state)."
   ]
  },
  {
   "cell_type": "code",
   "execution_count": 25,
   "id": "a1a968f4",
   "metadata": {
    "scrolled": false
   },
   "outputs": [
    {
     "data": {
      "text/html": [
       "<div>\n",
       "<style scoped>\n",
       "    .dataframe tbody tr th:only-of-type {\n",
       "        vertical-align: middle;\n",
       "    }\n",
       "\n",
       "    .dataframe tbody tr th {\n",
       "        vertical-align: top;\n",
       "    }\n",
       "\n",
       "    .dataframe thead th {\n",
       "        text-align: right;\n",
       "    }\n",
       "</style>\n",
       "<table border=\"1\" class=\"dataframe\">\n",
       "  <thead>\n",
       "    <tr style=\"text-align: right;\">\n",
       "      <th></th>\n",
       "      <th>full_name</th>\n",
       "      <th>gender</th>\n",
       "      <th>poc</th>\n",
       "      <th>personality_type</th>\n",
       "      <th>age</th>\n",
       "      <th>state</th>\n",
       "      <th>season</th>\n",
       "      <th>result</th>\n",
       "    </tr>\n",
       "  </thead>\n",
       "  <tbody>\n",
       "    <tr>\n",
       "      <th>0</th>\n",
       "      <td>Sonja Christopher</td>\n",
       "      <td>Female</td>\n",
       "      <td>White</td>\n",
       "      <td>ENFP</td>\n",
       "      <td>63</td>\n",
       "      <td>California</td>\n",
       "      <td>1</td>\n",
       "      <td>1st voted out</td>\n",
       "    </tr>\n",
       "    <tr>\n",
       "      <th>1</th>\n",
       "      <td>B.B. Andersen</td>\n",
       "      <td>Male</td>\n",
       "      <td>White</td>\n",
       "      <td>ESTJ</td>\n",
       "      <td>64</td>\n",
       "      <td>Kansas</td>\n",
       "      <td>1</td>\n",
       "      <td>2nd voted out</td>\n",
       "    </tr>\n",
       "    <tr>\n",
       "      <th>2</th>\n",
       "      <td>Stacey Stillman</td>\n",
       "      <td>Female</td>\n",
       "      <td>White</td>\n",
       "      <td>ENTJ</td>\n",
       "      <td>27</td>\n",
       "      <td>California</td>\n",
       "      <td>1</td>\n",
       "      <td>3rd voted out</td>\n",
       "    </tr>\n",
       "    <tr>\n",
       "      <th>3</th>\n",
       "      <td>Ramona Gray</td>\n",
       "      <td>Female</td>\n",
       "      <td>POC</td>\n",
       "      <td>ISTJ</td>\n",
       "      <td>29</td>\n",
       "      <td>New Jersey</td>\n",
       "      <td>1</td>\n",
       "      <td>4th voted out</td>\n",
       "    </tr>\n",
       "    <tr>\n",
       "      <th>4</th>\n",
       "      <td>Dirk Been</td>\n",
       "      <td>Male</td>\n",
       "      <td>White</td>\n",
       "      <td>ISFP</td>\n",
       "      <td>23</td>\n",
       "      <td>Wisconsin</td>\n",
       "      <td>1</td>\n",
       "      <td>5th voted out</td>\n",
       "    </tr>\n",
       "    <tr>\n",
       "      <th>...</th>\n",
       "      <td>...</td>\n",
       "      <td>...</td>\n",
       "      <td>...</td>\n",
       "      <td>...</td>\n",
       "      <td>...</td>\n",
       "      <td>...</td>\n",
       "      <td>...</td>\n",
       "      <td>...</td>\n",
       "    </tr>\n",
       "    <tr>\n",
       "      <th>775</th>\n",
       "      <td>Rocksroy Bailey</td>\n",
       "      <td>Male</td>\n",
       "      <td>POC</td>\n",
       "      <td>ESTJ</td>\n",
       "      <td>43</td>\n",
       "      <td>Nevada</td>\n",
       "      <td>42</td>\n",
       "      <td>8th voted out</td>\n",
       "    </tr>\n",
       "    <tr>\n",
       "      <th>776</th>\n",
       "      <td>Romeo Escobar</td>\n",
       "      <td>Male</td>\n",
       "      <td>POC</td>\n",
       "      <td>ISFP</td>\n",
       "      <td>37</td>\n",
       "      <td>California</td>\n",
       "      <td>42</td>\n",
       "      <td>2nd runner-up</td>\n",
       "    </tr>\n",
       "    <tr>\n",
       "      <th>777</th>\n",
       "      <td>Swati Goel</td>\n",
       "      <td>Female</td>\n",
       "      <td>POC</td>\n",
       "      <td>ISTJ</td>\n",
       "      <td>19</td>\n",
       "      <td>California</td>\n",
       "      <td>42</td>\n",
       "      <td>4th voted out</td>\n",
       "    </tr>\n",
       "    <tr>\n",
       "      <th>778</th>\n",
       "      <td>Tori Meehan</td>\n",
       "      <td>Female</td>\n",
       "      <td>White</td>\n",
       "      <td>ENFJ</td>\n",
       "      <td>24</td>\n",
       "      <td>Arizona</td>\n",
       "      <td>42</td>\n",
       "      <td>9th voted out</td>\n",
       "    </tr>\n",
       "    <tr>\n",
       "      <th>779</th>\n",
       "      <td>Zach Wurthenberger</td>\n",
       "      <td>Male</td>\n",
       "      <td>White</td>\n",
       "      <td>INTP</td>\n",
       "      <td>21</td>\n",
       "      <td>Missouri</td>\n",
       "      <td>42</td>\n",
       "      <td>1st voted out</td>\n",
       "    </tr>\n",
       "  </tbody>\n",
       "</table>\n",
       "<p>780 rows × 8 columns</p>\n",
       "</div>"
      ],
      "text/plain": [
       "              full_name  gender    poc personality_type  age       state  \\\n",
       "0     Sonja Christopher  Female  White             ENFP   63  California   \n",
       "1         B.B. Andersen    Male  White             ESTJ   64      Kansas   \n",
       "2       Stacey Stillman  Female  White             ENTJ   27  California   \n",
       "3           Ramona Gray  Female    POC             ISTJ   29  New Jersey   \n",
       "4             Dirk Been    Male  White             ISFP   23   Wisconsin   \n",
       "..                  ...     ...    ...              ...  ...         ...   \n",
       "775     Rocksroy Bailey    Male    POC             ESTJ   43      Nevada   \n",
       "776       Romeo Escobar    Male    POC             ISFP   37  California   \n",
       "777          Swati Goel  Female    POC             ISTJ   19  California   \n",
       "778         Tori Meehan  Female  White             ENFJ   24     Arizona   \n",
       "779  Zach Wurthenberger    Male  White             INTP   21    Missouri   \n",
       "\n",
       "     season         result  \n",
       "0         1  1st voted out  \n",
       "1         1  2nd voted out  \n",
       "2         1  3rd voted out  \n",
       "3         1  4th voted out  \n",
       "4         1  5th voted out  \n",
       "..      ...            ...  \n",
       "775      42  8th voted out  \n",
       "776      42  2nd runner-up  \n",
       "777      42  4th voted out  \n",
       "778      42  9th voted out  \n",
       "779      42  1st voted out  \n",
       "\n",
       "[780 rows x 8 columns]"
      ]
     },
     "execution_count": 25,
     "metadata": {},
     "output_type": "execute_result"
    }
   ],
   "source": [
    "all_castaways = castaway_details.merge(castaways[['season', 'castaway_id', 'age', 'state', 'result']], on='castaway_id', how='left')\n",
    "all_castaways = all_castaways[['full_name', 'gender', 'poc', 'personality_type', 'age', 'state', 'season', 'result']]\n",
    "all_castaways"
   ]
  },
  {
   "cell_type": "code",
   "execution_count": 26,
   "id": "74b8893b",
   "metadata": {},
   "outputs": [
    {
     "data": {
      "text/html": [
       "<div>\n",
       "<style scoped>\n",
       "    .dataframe tbody tr th:only-of-type {\n",
       "        vertical-align: middle;\n",
       "    }\n",
       "\n",
       "    .dataframe tbody tr th {\n",
       "        vertical-align: top;\n",
       "    }\n",
       "\n",
       "    .dataframe thead th {\n",
       "        text-align: right;\n",
       "    }\n",
       "</style>\n",
       "<table border=\"1\" class=\"dataframe\">\n",
       "  <thead>\n",
       "    <tr style=\"text-align: right;\">\n",
       "      <th></th>\n",
       "      <th>full_name</th>\n",
       "      <th>gender</th>\n",
       "      <th>poc</th>\n",
       "      <th>personality_type</th>\n",
       "      <th>age</th>\n",
       "      <th>state</th>\n",
       "      <th>season</th>\n",
       "      <th>result</th>\n",
       "    </tr>\n",
       "  </thead>\n",
       "  <tbody>\n",
       "    <tr>\n",
       "      <th>0</th>\n",
       "      <td>Sonja Christopher</td>\n",
       "      <td>Female</td>\n",
       "      <td>White</td>\n",
       "      <td>ENFP</td>\n",
       "      <td>63</td>\n",
       "      <td>California</td>\n",
       "      <td>1</td>\n",
       "      <td>0</td>\n",
       "    </tr>\n",
       "    <tr>\n",
       "      <th>1</th>\n",
       "      <td>B.B. Andersen</td>\n",
       "      <td>Male</td>\n",
       "      <td>White</td>\n",
       "      <td>ESTJ</td>\n",
       "      <td>64</td>\n",
       "      <td>Kansas</td>\n",
       "      <td>1</td>\n",
       "      <td>0</td>\n",
       "    </tr>\n",
       "    <tr>\n",
       "      <th>2</th>\n",
       "      <td>Stacey Stillman</td>\n",
       "      <td>Female</td>\n",
       "      <td>White</td>\n",
       "      <td>ENTJ</td>\n",
       "      <td>27</td>\n",
       "      <td>California</td>\n",
       "      <td>1</td>\n",
       "      <td>0</td>\n",
       "    </tr>\n",
       "    <tr>\n",
       "      <th>3</th>\n",
       "      <td>Ramona Gray</td>\n",
       "      <td>Female</td>\n",
       "      <td>POC</td>\n",
       "      <td>ISTJ</td>\n",
       "      <td>29</td>\n",
       "      <td>New Jersey</td>\n",
       "      <td>1</td>\n",
       "      <td>0</td>\n",
       "    </tr>\n",
       "    <tr>\n",
       "      <th>4</th>\n",
       "      <td>Dirk Been</td>\n",
       "      <td>Male</td>\n",
       "      <td>White</td>\n",
       "      <td>ISFP</td>\n",
       "      <td>23</td>\n",
       "      <td>Wisconsin</td>\n",
       "      <td>1</td>\n",
       "      <td>0</td>\n",
       "    </tr>\n",
       "    <tr>\n",
       "      <th>...</th>\n",
       "      <td>...</td>\n",
       "      <td>...</td>\n",
       "      <td>...</td>\n",
       "      <td>...</td>\n",
       "      <td>...</td>\n",
       "      <td>...</td>\n",
       "      <td>...</td>\n",
       "      <td>...</td>\n",
       "    </tr>\n",
       "    <tr>\n",
       "      <th>775</th>\n",
       "      <td>Rocksroy Bailey</td>\n",
       "      <td>Male</td>\n",
       "      <td>POC</td>\n",
       "      <td>ESTJ</td>\n",
       "      <td>43</td>\n",
       "      <td>Nevada</td>\n",
       "      <td>42</td>\n",
       "      <td>0</td>\n",
       "    </tr>\n",
       "    <tr>\n",
       "      <th>776</th>\n",
       "      <td>Romeo Escobar</td>\n",
       "      <td>Male</td>\n",
       "      <td>POC</td>\n",
       "      <td>ISFP</td>\n",
       "      <td>37</td>\n",
       "      <td>California</td>\n",
       "      <td>42</td>\n",
       "      <td>0</td>\n",
       "    </tr>\n",
       "    <tr>\n",
       "      <th>777</th>\n",
       "      <td>Swati Goel</td>\n",
       "      <td>Female</td>\n",
       "      <td>POC</td>\n",
       "      <td>ISTJ</td>\n",
       "      <td>19</td>\n",
       "      <td>California</td>\n",
       "      <td>42</td>\n",
       "      <td>0</td>\n",
       "    </tr>\n",
       "    <tr>\n",
       "      <th>778</th>\n",
       "      <td>Tori Meehan</td>\n",
       "      <td>Female</td>\n",
       "      <td>White</td>\n",
       "      <td>ENFJ</td>\n",
       "      <td>24</td>\n",
       "      <td>Arizona</td>\n",
       "      <td>42</td>\n",
       "      <td>0</td>\n",
       "    </tr>\n",
       "    <tr>\n",
       "      <th>779</th>\n",
       "      <td>Zach Wurthenberger</td>\n",
       "      <td>Male</td>\n",
       "      <td>White</td>\n",
       "      <td>INTP</td>\n",
       "      <td>21</td>\n",
       "      <td>Missouri</td>\n",
       "      <td>42</td>\n",
       "      <td>0</td>\n",
       "    </tr>\n",
       "  </tbody>\n",
       "</table>\n",
       "<p>780 rows × 8 columns</p>\n",
       "</div>"
      ],
      "text/plain": [
       "              full_name  gender    poc personality_type  age       state  \\\n",
       "0     Sonja Christopher  Female  White             ENFP   63  California   \n",
       "1         B.B. Andersen    Male  White             ESTJ   64      Kansas   \n",
       "2       Stacey Stillman  Female  White             ENTJ   27  California   \n",
       "3           Ramona Gray  Female    POC             ISTJ   29  New Jersey   \n",
       "4             Dirk Been    Male  White             ISFP   23   Wisconsin   \n",
       "..                  ...     ...    ...              ...  ...         ...   \n",
       "775     Rocksroy Bailey    Male    POC             ESTJ   43      Nevada   \n",
       "776       Romeo Escobar    Male    POC             ISFP   37  California   \n",
       "777          Swati Goel  Female    POC             ISTJ   19  California   \n",
       "778         Tori Meehan  Female  White             ENFJ   24     Arizona   \n",
       "779  Zach Wurthenberger    Male  White             INTP   21    Missouri   \n",
       "\n",
       "     season  result  \n",
       "0         1       0  \n",
       "1         1       0  \n",
       "2         1       0  \n",
       "3         1       0  \n",
       "4         1       0  \n",
       "..      ...     ...  \n",
       "775      42       0  \n",
       "776      42       0  \n",
       "777      42       0  \n",
       "778      42       0  \n",
       "779      42       0  \n",
       "\n",
       "[780 rows x 8 columns]"
      ]
     },
     "execution_count": 26,
     "metadata": {},
     "output_type": "execute_result"
    }
   ],
   "source": [
    "# 1 is sole survivor, 0 is not\n",
    "all_castaways['result'] = all_castaways['result'].apply(lambda x: 1 if x == 'Sole Survivor' else 0)\n",
    "# # 0 is female, 1 is male, 2 is other\n",
    "# all_castaways['gender'] = all_castaways['gender'].apply(lambda x: 0 if x == 'Female' else 1 if x == 'Male' else 2)\n",
    "# # 0 is white, 1 is poc\n",
    "# all_castaways['poc'] = all_castaways['poc'].apply(lambda x: 0 if x == 'White' else 1)\n",
    "all_castaways"
   ]
  },
  {
   "cell_type": "code",
   "execution_count": 27,
   "id": "f83517a2",
   "metadata": {},
   "outputs": [
    {
     "data": {
      "text/plain": [
       "full_name           0\n",
       "gender              0\n",
       "poc                 0\n",
       "personality_type    3\n",
       "age                 0\n",
       "state               0\n",
       "season              0\n",
       "result              0\n",
       "dtype: int64"
      ]
     },
     "execution_count": 27,
     "metadata": {},
     "output_type": "execute_result"
    }
   ],
   "source": [
    "all_castaways.isna().sum()"
   ]
  },
  {
   "cell_type": "code",
   "execution_count": 28,
   "id": "baa6427b",
   "metadata": {},
   "outputs": [
    {
     "name": "stdout",
     "output_type": "stream",
     "text": [
      "Number of NaN personality types: 3\n",
      "After a search, we can manually impute the values: Laura is ENFP and Ron is ENTJ\n"
     ]
    },
    {
     "data": {
      "text/plain": [
       "full_name           0\n",
       "gender              0\n",
       "poc                 0\n",
       "personality_type    0\n",
       "age                 0\n",
       "state               0\n",
       "season              0\n",
       "result              0\n",
       "dtype: int64"
      ]
     },
     "execution_count": 28,
     "metadata": {},
     "output_type": "execute_result"
    }
   ],
   "source": [
    "print(\"Number of NaN personality types: \" + str(all_castaways[all_castaways['personality_type'].isna()].shape[0]))\n",
    "print(\"After a search, we can manually impute the values: Laura is ENFP and Ron is ENTJ\")\n",
    "all_castaways[all_castaways['full_name'] == 'Laura Boneham'] = all_castaways[all_castaways['full_name'] == 'Laura Boneham'].fillna(\"ENFP\")\n",
    "all_castaways[all_castaways['full_name'] == 'Ron Clark'] = all_castaways[all_castaways['full_name'] == 'Ron Clark'].fillna(\"ENTJ\")\n",
    "all_castaways.isna().sum()"
   ]
  },
  {
   "cell_type": "code",
   "execution_count": 29,
   "id": "45b61da1",
   "metadata": {},
   "outputs": [],
   "source": [
    "features = all_castaways[['gender', 'poc', 'personality_type', 'age', 'state']]\n",
    "label = all_castaways['result']\n",
    "X_train, X_test, y_train, y_test = train_test_split(features, label, test_size=0.2)"
   ]
  },
  {
   "cell_type": "code",
   "execution_count": 30,
   "id": "191d1239",
   "metadata": {},
   "outputs": [],
   "source": [
    "nom_features = ['personality_type', 'gender', 'poc', 'state']\n",
    "quan_features = ['age']"
   ]
  },
  {
   "cell_type": "code",
   "execution_count": 31,
   "id": "a78ae4a4",
   "metadata": {},
   "outputs": [],
   "source": [
    "preproc = ColumnTransformer([\n",
    "    ('one-hot', OneHotEncoder(handle_unknown='ignore'), nom_features),\n",
    "    ('scale', StandardScaler(), quan_features)\n",
    "], remainder='passthrough')"
   ]
  },
  {
   "cell_type": "code",
   "execution_count": 32,
   "id": "d0fc0dd2",
   "metadata": {},
   "outputs": [],
   "source": [
    "mod = SVC()\n",
    "pl = Pipeline([\n",
    "    ('preprocessing', preproc),\n",
    "    ('model', mod)\n",
    "])"
   ]
  },
  {
   "cell_type": "code",
   "execution_count": 40,
   "id": "3fa3e43a",
   "metadata": {},
   "outputs": [
    {
     "data": {
      "text/plain": [
       "array([0.93650794, 0.93650794, 0.93650794, 0.93650794, 0.9516129 ,\n",
       "       0.9516129 , 0.9516129 , 0.93548387, 0.93548387, 0.93548387])"
      ]
     },
     "execution_count": 40,
     "metadata": {},
     "output_type": "execute_result"
    }
   ],
   "source": [
    "errs = cross_val_score(pl, X_train, y_train, cv=10, scoring='accuracy')\n",
    "errs"
   ]
  },
  {
   "cell_type": "code",
   "execution_count": 41,
   "id": "c2f21a76",
   "metadata": {},
   "outputs": [
    {
     "data": {
      "text/plain": [
       "0.9407322068612392"
      ]
     },
     "execution_count": 41,
     "metadata": {},
     "output_type": "execute_result"
    }
   ],
   "source": [
    "avg_acc = np.mean(errs)\n",
    "avg_acc"
   ]
  },
  {
   "cell_type": "markdown",
   "id": "8c4cc73e",
   "metadata": {},
   "source": [
    "A model's predictions are \"good\" when it has a greater accuracy than the accuracy of just predicting all 0s or all 1s."
   ]
  },
  {
   "cell_type": "code",
   "execution_count": 42,
   "id": "3418d5c0",
   "metadata": {},
   "outputs": [
    {
     "data": {
      "text/plain": [
       "0.9461538461538461"
      ]
     },
     "execution_count": 42,
     "metadata": {},
     "output_type": "execute_result"
    }
   ],
   "source": [
    "all_ones = np.array([1] * label.shape[0])\n",
    "all_zeros = np.array([0] * label.shape[0])\n",
    "acc_threshold = np.maximum(accuracy_score(label, all_ones), accuracy_score(label, all_zeros))\n",
    "acc_threshold"
   ]
  },
  {
   "cell_type": "code",
   "execution_count": 43,
   "id": "22e49bab",
   "metadata": {},
   "outputs": [
    {
     "data": {
      "text/plain": [
       "Pipeline(steps=[('preprocessing',\n",
       "                 ColumnTransformer(remainder='passthrough',\n",
       "                                   transformers=[('one-hot',\n",
       "                                                  OneHotEncoder(handle_unknown='ignore'),\n",
       "                                                  ['personality_type', 'gender',\n",
       "                                                   'poc', 'state']),\n",
       "                                                 ('scale', StandardScaler(),\n",
       "                                                  ['age'])])),\n",
       "                ('model', SVC())])"
      ]
     },
     "execution_count": 43,
     "metadata": {},
     "output_type": "execute_result"
    }
   ],
   "source": [
    "pl.fit(X_train, y_train)"
   ]
  },
  {
   "cell_type": "code",
   "execution_count": 44,
   "id": "9e609eb0",
   "metadata": {},
   "outputs": [
    {
     "data": {
      "text/plain": [
       "0.967948717948718"
      ]
     },
     "execution_count": 44,
     "metadata": {},
     "output_type": "execute_result"
    }
   ],
   "source": [
    "pred_test = pl.predict(X_test)\n",
    "score = accuracy_score(y_test, pred_test)\n",
    "score"
   ]
  },
  {
   "cell_type": "code",
   "execution_count": 45,
   "id": "fc607ca8",
   "metadata": {},
   "outputs": [
    {
     "data": {
      "text/plain": [
       "(0.0, 0.0)"
      ]
     },
     "execution_count": 45,
     "metadata": {},
     "output_type": "execute_result"
    }
   ],
   "source": [
    "pred_train = pl.predict(X_train)\n",
    "coef_train = matthews_corrcoef(y_train, pred_train)\n",
    "\n",
    "coef_test = matthews_corrcoef(y_test, pred_test)\n",
    "coef_train, coef_test"
   ]
  },
  {
   "cell_type": "markdown",
   "id": "6a709ed5",
   "metadata": {},
   "source": [
    "We can see that the accuracy of the pipeline is approximately the same as just predicting all 0s. Likely, the model is doing just that. This is probably due to the imbalance of the dataset - there is a big disparity between the number of winners and non-winners in the dataset. There are a lot more non-winners.  \n",
    "\n",
    "Also, the Matthews correlation coefficient for the test set is close to 0, which means it represents an average random prediction."
   ]
  },
  {
   "cell_type": "markdown",
   "id": "96b49eee",
   "metadata": {},
   "source": [
    "_________________________"
   ]
  },
  {
   "cell_type": "markdown",
   "id": "ba26e948",
   "metadata": {},
   "source": [
    "Try class balancing (based on tutorial here: https://www.youtube.com/watch?v=o_mnbn8nFL8)."
   ]
  },
  {
   "cell_type": "code",
   "execution_count": 72,
   "id": "4496a4ba",
   "metadata": {},
   "outputs": [],
   "source": [
    "features = all_castaways[['gender', 'poc', 'personality_type', 'age']]\n",
    "label = all_castaways['result']\n",
    "X_train, X_test, y_train, y_test = train_test_split(features, label, test_size=0.2)"
   ]
  },
  {
   "cell_type": "code",
   "execution_count": 73,
   "id": "7dd068c3",
   "metadata": {},
   "outputs": [],
   "source": [
    "from imblearn.under_sampling import RandomUnderSampler\n",
    "\n",
    "rus = RandomUnderSampler(sampling_strategy=1)\n",
    "X_train_rus, y_train_rus = rus.fit_resample(X_train, y_train)\n",
    "ax = y_train_rus.value_counts().plot.pie(autopct='%.2f')\n",
    "_ = ax.set_title(\"under-sampling\")"
   ]
  },
  {
   "cell_type": "code",
   "execution_count": 74,
   "id": "7c8ae9ec",
   "metadata": {},
   "outputs": [
    {
     "data": {
      "text/plain": [
       "0    33\n",
       "1    33\n",
       "Name: result, dtype: int64"
      ]
     },
     "execution_count": 74,
     "metadata": {},
     "output_type": "execute_result"
    }
   ],
   "source": [
    "y_train_rus.value_counts()"
   ]
  },
  {
   "cell_type": "code",
   "execution_count": 75,
   "id": "d3d4ca88",
   "metadata": {},
   "outputs": [],
   "source": [
    "from imblearn.over_sampling import RandomOverSampler\n",
    "\n",
    "ros = RandomOverSampler(sampling_strategy='not majority')\n",
    "X_train_ros, y_train_ros = ros.fit_resample(X_train, y_train)\n",
    "ax = y_train_ros.value_counts().plot.pie(autopct='%.2f')\n",
    "_ = ax.set_title(\"over-sampling\")"
   ]
  },
  {
   "cell_type": "code",
   "execution_count": 76,
   "id": "4f49947e",
   "metadata": {},
   "outputs": [
    {
     "data": {
      "text/plain": [
       "0    591\n",
       "1    591\n",
       "Name: result, dtype: int64"
      ]
     },
     "execution_count": 76,
     "metadata": {},
     "output_type": "execute_result"
    }
   ],
   "source": [
    "y_train_ros.value_counts()"
   ]
  },
  {
   "cell_type": "markdown",
   "id": "4e9542e6",
   "metadata": {},
   "source": [
    "Use unbalanced dataset"
   ]
  },
  {
   "cell_type": "code",
   "execution_count": 77,
   "id": "9e8c6313",
   "metadata": {},
   "outputs": [],
   "source": [
    "def make_binary(df):\n",
    "    df['gender int'] = df['gender'].map({'Male': 0, 'Female': 1, 'Non-binary': 2})\n",
    "    df['poc int'] = df['poc'].map({'POC': 0, 'White': 1})\n",
    "    one_hot = OneHotEncoder()\n",
    "    encoded = one_hot.fit_transform(df[['personality_type']])\n",
    "    df[one_hot.categories_[0]] = encoded.toarray()\n",
    "    df = df.drop(columns=['gender', 'poc', 'personality_type'])\n",
    "    return df"
   ]
  },
  {
   "cell_type": "code",
   "execution_count": 78,
   "id": "01628bd4",
   "metadata": {},
   "outputs": [
    {
     "data": {
      "text/html": [
       "<div>\n",
       "<style scoped>\n",
       "    .dataframe tbody tr th:only-of-type {\n",
       "        vertical-align: middle;\n",
       "    }\n",
       "\n",
       "    .dataframe tbody tr th {\n",
       "        vertical-align: top;\n",
       "    }\n",
       "\n",
       "    .dataframe thead th {\n",
       "        text-align: right;\n",
       "    }\n",
       "</style>\n",
       "<table border=\"1\" class=\"dataframe\">\n",
       "  <thead>\n",
       "    <tr style=\"text-align: right;\">\n",
       "      <th></th>\n",
       "      <th>performance_metric_names</th>\n",
       "      <th>performance_metric_values</th>\n",
       "    </tr>\n",
       "  </thead>\n",
       "  <tbody>\n",
       "    <tr>\n",
       "      <th>0</th>\n",
       "      <td>MCC_train</td>\n",
       "      <td>0.0</td>\n",
       "    </tr>\n",
       "    <tr>\n",
       "      <th>1</th>\n",
       "      <td>MCC_CV</td>\n",
       "      <td>0.0</td>\n",
       "    </tr>\n",
       "    <tr>\n",
       "      <th>2</th>\n",
       "      <td>MCC_test</td>\n",
       "      <td>0.0</td>\n",
       "    </tr>\n",
       "  </tbody>\n",
       "</table>\n",
       "</div>"
      ],
      "text/plain": [
       "  performance_metric_names  performance_metric_values\n",
       "0                MCC_train                        0.0\n",
       "1                   MCC_CV                        0.0\n",
       "2                 MCC_test                        0.0"
      ]
     },
     "execution_count": 78,
     "metadata": {},
     "output_type": "execute_result"
    }
   ],
   "source": [
    "X_train = make_binary(X_train)\n",
    "X_test = make_binary(X_test)\n",
    "\n",
    "model = SVC() #RandomForestClassifier()\n",
    "model.fit(X_train, y_train)\n",
    "\n",
    "model_cv = SVC() #RandomForestClassifier()\n",
    "cv_scoring = {'MCC': make_scorer(matthews_corrcoef)}\n",
    "cv = cross_validate(model_cv, X_train, y_train, cv=5, scoring=cv_scoring)\n",
    "\n",
    "y_train_pred = model.predict(X_train)\n",
    "y_test_pred = model.predict(X_test)\n",
    "\n",
    "mcc_train = matthews_corrcoef(y_train, y_train_pred)\n",
    "mcc_test = matthews_corrcoef(y_test, y_test_pred)\n",
    "mcc_cv = cv['test_MCC'].mean()\n",
    "\n",
    "df_labels = pd.Series(['MCC_train', 'MCC_CV', 'MCC_test'], name='performance_metric_names')\n",
    "df_values = pd.Series([mcc_train, mcc_cv, mcc_test], name='performance_metric_values')\n",
    "df1 = pd.concat([df_labels, df_values], axis=1)\n",
    "df1"
   ]
  },
  {
   "cell_type": "markdown",
   "id": "2730c023",
   "metadata": {},
   "source": [
    "Use undersampled balanced dataset"
   ]
  },
  {
   "cell_type": "code",
   "execution_count": 79,
   "id": "a5d72a55",
   "metadata": {},
   "outputs": [
    {
     "data": {
      "text/html": [
       "<div>\n",
       "<style scoped>\n",
       "    .dataframe tbody tr th:only-of-type {\n",
       "        vertical-align: middle;\n",
       "    }\n",
       "\n",
       "    .dataframe tbody tr th {\n",
       "        vertical-align: top;\n",
       "    }\n",
       "\n",
       "    .dataframe thead th {\n",
       "        text-align: right;\n",
       "    }\n",
       "</style>\n",
       "<table border=\"1\" class=\"dataframe\">\n",
       "  <thead>\n",
       "    <tr style=\"text-align: right;\">\n",
       "      <th></th>\n",
       "      <th>performance_metric_names</th>\n",
       "      <th>performance_metric_values</th>\n",
       "    </tr>\n",
       "  </thead>\n",
       "  <tbody>\n",
       "    <tr>\n",
       "      <th>0</th>\n",
       "      <td>MCC_train</td>\n",
       "      <td>0.197814</td>\n",
       "    </tr>\n",
       "    <tr>\n",
       "      <th>1</th>\n",
       "      <td>MCC_CV</td>\n",
       "      <td>0.159572</td>\n",
       "    </tr>\n",
       "    <tr>\n",
       "      <th>2</th>\n",
       "      <td>MCC_test</td>\n",
       "      <td>0.055228</td>\n",
       "    </tr>\n",
       "  </tbody>\n",
       "</table>\n",
       "</div>"
      ],
      "text/plain": [
       "  performance_metric_names  performance_metric_values\n",
       "0                MCC_train                   0.197814\n",
       "1                   MCC_CV                   0.159572\n",
       "2                 MCC_test                   0.055228"
      ]
     },
     "execution_count": 79,
     "metadata": {},
     "output_type": "execute_result"
    }
   ],
   "source": [
    "X_train_rus = make_binary(X_train_rus)\n",
    "\n",
    "model = SVC() #RandomForestClassifier()\n",
    "model.fit(X_train_rus, y_train_rus)\n",
    "\n",
    "model_cv = SVC() #RandomForestClassifier()\n",
    "cv_scoring = {'MCC': make_scorer(matthews_corrcoef)}\n",
    "cv = cross_validate(model_cv, X_train_rus, y_train_rus, cv=5, scoring=cv_scoring)\n",
    "\n",
    "y_train_pred = model.predict(X_train_rus)\n",
    "y_test_pred = model.predict(X_test)\n",
    "\n",
    "mcc_train = matthews_corrcoef(y_train_rus, y_train_pred)\n",
    "mcc_test = matthews_corrcoef(y_test, y_test_pred)\n",
    "mcc_cv = cv['test_MCC'].mean()\n",
    "\n",
    "df_labels = pd.Series(['MCC_train', 'MCC_CV', 'MCC_test'], name='performance_metric_names')\n",
    "df_values = pd.Series([mcc_train, mcc_cv, mcc_test], name='performance_metric_values')\n",
    "df2 = pd.concat([df_labels, df_values], axis=1)\n",
    "df2"
   ]
  },
  {
   "cell_type": "markdown",
   "id": "48b9397d",
   "metadata": {},
   "source": [
    "Use oversampled balanced dataset"
   ]
  },
  {
   "cell_type": "code",
   "execution_count": 80,
   "id": "a94755df",
   "metadata": {},
   "outputs": [
    {
     "data": {
      "text/html": [
       "<div>\n",
       "<style scoped>\n",
       "    .dataframe tbody tr th:only-of-type {\n",
       "        vertical-align: middle;\n",
       "    }\n",
       "\n",
       "    .dataframe tbody tr th {\n",
       "        vertical-align: top;\n",
       "    }\n",
       "\n",
       "    .dataframe thead th {\n",
       "        text-align: right;\n",
       "    }\n",
       "</style>\n",
       "<table border=\"1\" class=\"dataframe\">\n",
       "  <thead>\n",
       "    <tr style=\"text-align: right;\">\n",
       "      <th></th>\n",
       "      <th>performance_metric_names</th>\n",
       "      <th>performance_metric_values</th>\n",
       "    </tr>\n",
       "  </thead>\n",
       "  <tbody>\n",
       "    <tr>\n",
       "      <th>0</th>\n",
       "      <td>MCC_train</td>\n",
       "      <td>0.289701</td>\n",
       "    </tr>\n",
       "    <tr>\n",
       "      <th>1</th>\n",
       "      <td>MCC_CV</td>\n",
       "      <td>0.285943</td>\n",
       "    </tr>\n",
       "    <tr>\n",
       "      <th>2</th>\n",
       "      <td>MCC_test</td>\n",
       "      <td>0.076366</td>\n",
       "    </tr>\n",
       "  </tbody>\n",
       "</table>\n",
       "</div>"
      ],
      "text/plain": [
       "  performance_metric_names  performance_metric_values\n",
       "0                MCC_train                   0.289701\n",
       "1                   MCC_CV                   0.285943\n",
       "2                 MCC_test                   0.076366"
      ]
     },
     "execution_count": 80,
     "metadata": {},
     "output_type": "execute_result"
    }
   ],
   "source": [
    "X_train_ros = make_binary(X_train_ros)\n",
    "\n",
    "model = SVC() #RandomForestClassifier()\n",
    "model.fit(X_train_ros, y_train_ros)\n",
    "\n",
    "model_cv = SVC() #RandomForestClassifier()\n",
    "cv_scoring = {'MCC': make_scorer(matthews_corrcoef)}\n",
    "cv = cross_validate(model_cv, X_train_ros, y_train_ros, cv=5, scoring=cv_scoring)\n",
    "\n",
    "y_train_pred = model.predict(X_train_ros)\n",
    "y_test_pred = model.predict(X_test)\n",
    "\n",
    "mcc_train = matthews_corrcoef(y_train_ros, y_train_pred)\n",
    "mcc_test = matthews_corrcoef(y_test, y_test_pred)\n",
    "mcc_cv = cv['test_MCC'].mean()\n",
    "\n",
    "df_labels = pd.Series(['MCC_train', 'MCC_CV', 'MCC_test'], name='performance_metric_names')\n",
    "df_values = pd.Series([mcc_train, mcc_cv, mcc_test], name='performance_metric_values')\n",
    "df3 = pd.concat([df_labels, df_values], axis=1)\n",
    "df3"
   ]
  },
  {
   "cell_type": "markdown",
   "id": "96fdbcda",
   "metadata": {},
   "source": [
    "Use class weight balancing"
   ]
  },
  {
   "cell_type": "code",
   "execution_count": 81,
   "id": "db62592c",
   "metadata": {},
   "outputs": [
    {
     "data": {
      "text/html": [
       "<div>\n",
       "<style scoped>\n",
       "    .dataframe tbody tr th:only-of-type {\n",
       "        vertical-align: middle;\n",
       "    }\n",
       "\n",
       "    .dataframe tbody tr th {\n",
       "        vertical-align: top;\n",
       "    }\n",
       "\n",
       "    .dataframe thead th {\n",
       "        text-align: right;\n",
       "    }\n",
       "</style>\n",
       "<table border=\"1\" class=\"dataframe\">\n",
       "  <thead>\n",
       "    <tr style=\"text-align: right;\">\n",
       "      <th></th>\n",
       "      <th>performance_metric_names</th>\n",
       "      <th>performance_metric_values</th>\n",
       "    </tr>\n",
       "  </thead>\n",
       "  <tbody>\n",
       "    <tr>\n",
       "      <th>0</th>\n",
       "      <td>MCC_train</td>\n",
       "      <td>0.106134</td>\n",
       "    </tr>\n",
       "    <tr>\n",
       "      <th>1</th>\n",
       "      <td>MCC_CV</td>\n",
       "      <td>0.074787</td>\n",
       "    </tr>\n",
       "    <tr>\n",
       "      <th>2</th>\n",
       "      <td>MCC_test</td>\n",
       "      <td>0.079365</td>\n",
       "    </tr>\n",
       "  </tbody>\n",
       "</table>\n",
       "</div>"
      ],
      "text/plain": [
       "  performance_metric_names  performance_metric_values\n",
       "0                MCC_train                   0.106134\n",
       "1                   MCC_CV                   0.074787\n",
       "2                 MCC_test                   0.079365"
      ]
     },
     "execution_count": 81,
     "metadata": {},
     "output_type": "execute_result"
    }
   ],
   "source": [
    "model = SVC(class_weight='balanced') #RandomForestClassifier(class_weight='balanced')\n",
    "model.fit(X_train, y_train)\n",
    "\n",
    "model_cv = SVC(class_weight='balanced') #RandomForestClassifier(class_weight='balanced')\n",
    "cv_scoring = {'MCC': make_scorer(matthews_corrcoef)}\n",
    "cv = cross_validate(model_cv, X_train, y_train, cv=5, scoring=cv_scoring)\n",
    "\n",
    "y_train_pred = model.predict(X_train)\n",
    "y_test_pred = model.predict(X_test)\n",
    "\n",
    "mcc_train = matthews_corrcoef(y_train, y_train_pred)\n",
    "mcc_test = matthews_corrcoef(y_test, y_test_pred)\n",
    "mcc_cv = cv['test_MCC'].mean()\n",
    "\n",
    "df_labels = pd.Series(['MCC_train', 'MCC_CV', 'MCC_test'], name='performance_metric_names')\n",
    "df_values = pd.Series([mcc_train, mcc_cv, mcc_test], name='performance_metric_values')\n",
    "df4 = pd.concat([df_labels, df_values], axis=1)\n",
    "df4"
   ]
  },
  {
   "cell_type": "markdown",
   "id": "01e7ae7a",
   "metadata": {},
   "source": [
    "Summary of model performance"
   ]
  },
  {
   "cell_type": "code",
   "execution_count": 82,
   "id": "07268130",
   "metadata": {},
   "outputs": [
    {
     "data": {
      "text/html": [
       "<div>\n",
       "<style scoped>\n",
       "    .dataframe tbody tr th:only-of-type {\n",
       "        vertical-align: middle;\n",
       "    }\n",
       "\n",
       "    .dataframe tbody tr th {\n",
       "        vertical-align: top;\n",
       "    }\n",
       "\n",
       "    .dataframe thead th {\n",
       "        text-align: right;\n",
       "    }\n",
       "</style>\n",
       "<table border=\"1\" class=\"dataframe\">\n",
       "  <thead>\n",
       "    <tr style=\"text-align: right;\">\n",
       "      <th></th>\n",
       "      <th>Training</th>\n",
       "      <th>CV</th>\n",
       "      <th>Test</th>\n",
       "    </tr>\n",
       "  </thead>\n",
       "  <tbody>\n",
       "    <tr>\n",
       "      <th>no class balancing</th>\n",
       "      <td>0.000000</td>\n",
       "      <td>0.000000</td>\n",
       "      <td>0.000000</td>\n",
       "    </tr>\n",
       "    <tr>\n",
       "      <th>class balancing (undersampling)</th>\n",
       "      <td>0.197814</td>\n",
       "      <td>0.159572</td>\n",
       "      <td>0.055228</td>\n",
       "    </tr>\n",
       "    <tr>\n",
       "      <th>class balancing (oversampling)</th>\n",
       "      <td>0.289701</td>\n",
       "      <td>0.285943</td>\n",
       "      <td>0.076366</td>\n",
       "    </tr>\n",
       "    <tr>\n",
       "      <th>class balancing (class weights)</th>\n",
       "      <td>0.106134</td>\n",
       "      <td>0.074787</td>\n",
       "      <td>0.079365</td>\n",
       "    </tr>\n",
       "  </tbody>\n",
       "</table>\n",
       "</div>"
      ],
      "text/plain": [
       "                                 Training        CV      Test\n",
       "no class balancing               0.000000  0.000000  0.000000\n",
       "class balancing (undersampling)  0.197814  0.159572  0.055228\n",
       "class balancing (oversampling)   0.289701  0.285943  0.076366\n",
       "class balancing (class weights)  0.106134  0.074787  0.079365"
      ]
     },
     "execution_count": 82,
     "metadata": {},
     "output_type": "execute_result"
    }
   ],
   "source": [
    "df = pd.concat([df1.performance_metric_values,\n",
    "                df2.performance_metric_values,\n",
    "                df3.performance_metric_values,\n",
    "                df4.performance_metric_values], axis=1)\n",
    "df.columns = ['no class balancing', 'class balancing (undersampling)', 'class balancing (oversampling)', 'class balancing (class weights)']\n",
    "df = df.T\n",
    "df.columns = ['Training', 'CV', 'Test']\n",
    "df"
   ]
  },
  {
   "cell_type": "markdown",
   "id": "1135df55",
   "metadata": {},
   "source": [
    "All of the values of the Matthews correlation coefficient for the testing sets are close to 0, meaning it represents an average random prediction. This means that balancing our dataset does not really improve the quality of our predictions."
   ]
  },
  {
   "cell_type": "markdown",
   "id": "0f64d039",
   "metadata": {},
   "source": [
    "_________________"
   ]
  },
  {
   "cell_type": "markdown",
   "id": "dc23d71a",
   "metadata": {},
   "source": [
    "Rather than looking at uncontrollable characteristics - ones that are innate in a player, let's look at their gameplay."
   ]
  },
  {
   "cell_type": "markdown",
   "id": "acce7fbd",
   "metadata": {},
   "source": [
    "Number of immunity idols won"
   ]
  },
  {
   "cell_type": "code",
   "execution_count": 89,
   "id": "65101264",
   "metadata": {},
   "outputs": [
    {
     "data": {
      "text/html": [
       "<div>\n",
       "<style scoped>\n",
       "    .dataframe tbody tr th:only-of-type {\n",
       "        vertical-align: middle;\n",
       "    }\n",
       "\n",
       "    .dataframe tbody tr th {\n",
       "        vertical-align: top;\n",
       "    }\n",
       "\n",
       "    .dataframe thead th {\n",
       "        text-align: right;\n",
       "    }\n",
       "</style>\n",
       "<table border=\"1\" class=\"dataframe\">\n",
       "  <thead>\n",
       "    <tr style=\"text-align: right;\">\n",
       "      <th></th>\n",
       "      <th>version</th>\n",
       "      <th>version_season</th>\n",
       "      <th>season_name</th>\n",
       "      <th>season</th>\n",
       "      <th>episode</th>\n",
       "      <th>day</th>\n",
       "      <th>order</th>\n",
       "      <th>episode_title</th>\n",
       "      <th>challenge_name</th>\n",
       "      <th>challenge_type</th>\n",
       "      <th>outcome_type</th>\n",
       "      <th>challenge_id</th>\n",
       "      <th>winners</th>\n",
       "    </tr>\n",
       "  </thead>\n",
       "  <tbody>\n",
       "    <tr>\n",
       "      <th>0</th>\n",
       "      <td>US</td>\n",
       "      <td>US01</td>\n",
       "      <td>Survivor: Borneo</td>\n",
       "      <td>1</td>\n",
       "      <td>1</td>\n",
       "      <td>3</td>\n",
       "      <td>0</td>\n",
       "      <td>The Marooning</td>\n",
       "      <td>Quest for Fire</td>\n",
       "      <td>Reward and Immunity</td>\n",
       "      <td>Tribal</td>\n",
       "      <td>CH0001</td>\n",
       "      <td>list(winner_id = c(\"US0002\", \"US0004\", \"US0006...</td>\n",
       "    </tr>\n",
       "    <tr>\n",
       "      <th>1</th>\n",
       "      <td>US</td>\n",
       "      <td>US01</td>\n",
       "      <td>Survivor: Borneo</td>\n",
       "      <td>1</td>\n",
       "      <td>2</td>\n",
       "      <td>6</td>\n",
       "      <td>1</td>\n",
       "      <td>The Generation Gap</td>\n",
       "      <td>Buggin' Out</td>\n",
       "      <td>Immunity</td>\n",
       "      <td>Tribal</td>\n",
       "      <td>CH0004</td>\n",
       "      <td>list(winner_id = c(\"US0003\", \"US0005\", \"US0012...</td>\n",
       "    </tr>\n",
       "    <tr>\n",
       "      <th>2</th>\n",
       "      <td>US</td>\n",
       "      <td>US01</td>\n",
       "      <td>Survivor: Borneo</td>\n",
       "      <td>1</td>\n",
       "      <td>2</td>\n",
       "      <td>6</td>\n",
       "      <td>1</td>\n",
       "      <td>The Generation Gap</td>\n",
       "      <td>Shoulder the Load</td>\n",
       "      <td>Reward</td>\n",
       "      <td>Tribal</td>\n",
       "      <td>CH0357</td>\n",
       "      <td>list(winner_id = c(\"US0002\", \"US0004\", \"US0006...</td>\n",
       "    </tr>\n",
       "    <tr>\n",
       "      <th>3</th>\n",
       "      <td>US</td>\n",
       "      <td>US01</td>\n",
       "      <td>Survivor: Borneo</td>\n",
       "      <td>1</td>\n",
       "      <td>3</td>\n",
       "      <td>9</td>\n",
       "      <td>2</td>\n",
       "      <td>Quest for Food</td>\n",
       "      <td>Rescue Mission</td>\n",
       "      <td>Immunity</td>\n",
       "      <td>Tribal</td>\n",
       "      <td>CH0021</td>\n",
       "      <td>list(winner_id = c(\"US0004\", \"US0006\", \"US0007...</td>\n",
       "    </tr>\n",
       "    <tr>\n",
       "      <th>4</th>\n",
       "      <td>US</td>\n",
       "      <td>US01</td>\n",
       "      <td>Survivor: Borneo</td>\n",
       "      <td>1</td>\n",
       "      <td>3</td>\n",
       "      <td>9</td>\n",
       "      <td>2</td>\n",
       "      <td>Quest for Food</td>\n",
       "      <td>Treasure Chest</td>\n",
       "      <td>Reward</td>\n",
       "      <td>Tribal</td>\n",
       "      <td>CH0020</td>\n",
       "      <td>list(winner_id = c(\"US0003\", \"US0005\", \"US0012...</td>\n",
       "    </tr>\n",
       "  </tbody>\n",
       "</table>\n",
       "</div>"
      ],
      "text/plain": [
       "  version version_season       season_name  season  episode  day  order  \\\n",
       "0      US           US01  Survivor: Borneo       1        1    3      0   \n",
       "1      US           US01  Survivor: Borneo       1        2    6      1   \n",
       "2      US           US01  Survivor: Borneo       1        2    6      1   \n",
       "3      US           US01  Survivor: Borneo       1        3    9      2   \n",
       "4      US           US01  Survivor: Borneo       1        3    9      2   \n",
       "\n",
       "        episode_title     challenge_name       challenge_type outcome_type  \\\n",
       "0       The Marooning     Quest for Fire  Reward and Immunity       Tribal   \n",
       "1  The Generation Gap        Buggin' Out             Immunity       Tribal   \n",
       "2  The Generation Gap  Shoulder the Load               Reward       Tribal   \n",
       "3      Quest for Food     Rescue Mission             Immunity       Tribal   \n",
       "4      Quest for Food     Treasure Chest               Reward       Tribal   \n",
       "\n",
       "  challenge_id                                            winners  \n",
       "0       CH0001  list(winner_id = c(\"US0002\", \"US0004\", \"US0006...  \n",
       "1       CH0004  list(winner_id = c(\"US0003\", \"US0005\", \"US0012...  \n",
       "2       CH0357  list(winner_id = c(\"US0002\", \"US0004\", \"US0006...  \n",
       "3       CH0021  list(winner_id = c(\"US0004\", \"US0006\", \"US0007...  \n",
       "4       CH0020  list(winner_id = c(\"US0003\", \"US0005\", \"US0012...  "
      ]
     },
     "execution_count": 89,
     "metadata": {},
     "output_type": "execute_result"
    }
   ],
   "source": [
    "challenge_results.head()"
   ]
  },
  {
   "cell_type": "code",
   "execution_count": 97,
   "id": "88021b71",
   "metadata": {},
   "outputs": [
    {
     "data": {
      "text/plain": [
       "'list(winner_id = c(\"US0002\", \"US0004\", \"US0006\", \"US0007\", \"US0008\", \"US0009\", \"US0010\", \"US0011\"), winner = c(\"B.B.\", \"Ramona\", \"Joel\", \"Gretchen\", \"Greg\", \"Jenna\", \"Gervase\", \"Colleen\"), winning_tribe = c(\"Pagong\", \"Pagong\", \"Pagong\", \"Pagong\", \"Pagong\", \"Pagong\", \"Pagong\", \"Pagong\"), outcome_status = c(\"Winner\", \"Winner\", \"Winner\", \"Winner\", \"Winner\", \"Winner\", \"Winner\", \"Winner\"))'"
      ]
     },
     "execution_count": 97,
     "metadata": {},
     "output_type": "execute_result"
    }
   ],
   "source": [
    "challenge_results['winners'][0]"
   ]
  },
  {
   "cell_type": "code",
   "execution_count": 96,
   "id": "4f2ffe55",
   "metadata": {},
   "outputs": [
    {
     "data": {
      "text/plain": [
       "str"
      ]
     },
     "execution_count": 96,
     "metadata": {},
     "output_type": "execute_result"
    }
   ],
   "source": [
    "type(challenge_results['winners'][0])"
   ]
  },
  {
   "cell_type": "code",
   "execution_count": 102,
   "id": "cd7a6442",
   "metadata": {},
   "outputs": [
    {
     "data": {
      "text/plain": [
       "['list',\n",
       " 'winner_id = c',\n",
       " '\"US0002\", \"US0004\", \"US0006\", \"US0007\", \"US0008\", \"US0009\", \"US0010\", \"US0011\"), winner = c',\n",
       " '\"B.B.\", \"Ramona\", \"Joel\", \"Gretchen\", \"Greg\", \"Jenna\", \"Gervase\", \"Colleen\"), winning_tribe = c',\n",
       " '\"Pagong\", \"Pagong\", \"Pagong\", \"Pagong\", \"Pagong\", \"Pagong\", \"Pagong\", \"Pagong\"), outcome_status = c',\n",
       " '\"Winner\", \"Winner\", \"Winner\", \"Winner\", \"Winner\", \"Winner\", \"Winner\", \"Winner\"))']"
      ]
     },
     "execution_count": 102,
     "metadata": {},
     "output_type": "execute_result"
    }
   ],
   "source": [
    "challenge_results['winners'][0].split('(')"
   ]
  },
  {
   "cell_type": "code",
   "execution_count": 105,
   "id": "93cca158",
   "metadata": {},
   "outputs": [
    {
     "data": {
      "text/plain": [
       "'\"US0002\", \"US0004\", \"US0006\", \"US0007\", \"US0008\", \"US0009\", \"US0010\", \"US0011\"'"
      ]
     },
     "execution_count": 105,
     "metadata": {},
     "output_type": "execute_result"
    }
   ],
   "source": [
    "challenge_results['winners'][0].split('(')[2].split(')')[0]"
   ]
  },
  {
   "cell_type": "code",
   "execution_count": 113,
   "id": "cb262e2f",
   "metadata": {},
   "outputs": [
    {
     "data": {
      "text/plain": [
       "['US0002',\n",
       " 'US0004',\n",
       " 'US0006',\n",
       " 'US0007',\n",
       " 'US0008',\n",
       " 'US0009',\n",
       " 'US0010',\n",
       " 'US0011']"
      ]
     },
     "execution_count": 113,
     "metadata": {},
     "output_type": "execute_result"
    }
   ],
   "source": [
    "challenge_results['winners'][0].split('(')[2].split(')')[0].replace('\"', '').replace(' ', '').split(',')"
   ]
  },
  {
   "cell_type": "code",
   "execution_count": 124,
   "id": "11905072",
   "metadata": {},
   "outputs": [
    {
     "data": {
      "text/html": [
       "<div>\n",
       "<style scoped>\n",
       "    .dataframe tbody tr th:only-of-type {\n",
       "        vertical-align: middle;\n",
       "    }\n",
       "\n",
       "    .dataframe tbody tr th {\n",
       "        vertical-align: top;\n",
       "    }\n",
       "\n",
       "    .dataframe thead th {\n",
       "        text-align: right;\n",
       "    }\n",
       "</style>\n",
       "<table border=\"1\" class=\"dataframe\">\n",
       "  <thead>\n",
       "    <tr style=\"text-align: right;\">\n",
       "      <th></th>\n",
       "      <th>winners</th>\n",
       "    </tr>\n",
       "  </thead>\n",
       "  <tbody>\n",
       "    <tr>\n",
       "      <th>0</th>\n",
       "      <td>abclist(winner_id = c(\"US0002\", \"US0004\", \"US0...</td>\n",
       "    </tr>\n",
       "    <tr>\n",
       "      <th>1</th>\n",
       "      <td>abclist(winner_id = c(\"US0003\", \"US0005\", \"US0...</td>\n",
       "    </tr>\n",
       "    <tr>\n",
       "      <th>2</th>\n",
       "      <td>abclist(winner_id = c(\"US0002\", \"US0004\", \"US0...</td>\n",
       "    </tr>\n",
       "    <tr>\n",
       "      <th>3</th>\n",
       "      <td>abclist(winner_id = c(\"US0004\", \"US0006\", \"US0...</td>\n",
       "    </tr>\n",
       "    <tr>\n",
       "      <th>4</th>\n",
       "      <td>abclist(winner_id = c(\"US0003\", \"US0005\", \"US0...</td>\n",
       "    </tr>\n",
       "    <tr>\n",
       "      <th>...</th>\n",
       "      <td>...</td>\n",
       "    </tr>\n",
       "    <tr>\n",
       "      <th>1054</th>\n",
       "      <td>abclist(winner_id = \"US0615\", winner = \"Jonath...</td>\n",
       "    </tr>\n",
       "    <tr>\n",
       "      <th>1055</th>\n",
       "      <td>abclist(winner_id = c(\"US0621\", \"US0619\", \"US0...</td>\n",
       "    </tr>\n",
       "    <tr>\n",
       "      <th>1056</th>\n",
       "      <td>abclist(winner_id = \"US0616\", winner = \"Lindsa...</td>\n",
       "    </tr>\n",
       "    <tr>\n",
       "      <th>1057</th>\n",
       "      <td>abclist(winner_id = c(\"US0620\", \"US0615\"), win...</td>\n",
       "    </tr>\n",
       "    <tr>\n",
       "      <th>1058</th>\n",
       "      <td>abclist(winner_id = \"US0623\", winner = \"Romeo\"...</td>\n",
       "    </tr>\n",
       "  </tbody>\n",
       "</table>\n",
       "<p>1059 rows × 1 columns</p>\n",
       "</div>"
      ],
      "text/plain": [
       "                                                winners\n",
       "0     abclist(winner_id = c(\"US0002\", \"US0004\", \"US0...\n",
       "1     abclist(winner_id = c(\"US0003\", \"US0005\", \"US0...\n",
       "2     abclist(winner_id = c(\"US0002\", \"US0004\", \"US0...\n",
       "3     abclist(winner_id = c(\"US0004\", \"US0006\", \"US0...\n",
       "4     abclist(winner_id = c(\"US0003\", \"US0005\", \"US0...\n",
       "...                                                 ...\n",
       "1054  abclist(winner_id = \"US0615\", winner = \"Jonath...\n",
       "1055  abclist(winner_id = c(\"US0621\", \"US0619\", \"US0...\n",
       "1056  abclist(winner_id = \"US0616\", winner = \"Lindsa...\n",
       "1057  abclist(winner_id = c(\"US0620\", \"US0615\"), win...\n",
       "1058  abclist(winner_id = \"US0623\", winner = \"Romeo\"...\n",
       "\n",
       "[1059 rows x 1 columns]"
      ]
     },
     "execution_count": 124,
     "metadata": {},
     "output_type": "execute_result"
    }
   ],
   "source": [
    "challenge_results[['winners']].apply(lambda x: \"abc\"+x)\n",
    "# .split('(')[2].split(')')[0].replace('\"', '').replace(' ', '').split(','))"
   ]
  },
  {
   "cell_type": "markdown",
   "id": "c670403c",
   "metadata": {},
   "source": [
    "_________________"
   ]
  },
  {
   "cell_type": "code",
   "execution_count": null,
   "id": "dc6c9b4c",
   "metadata": {},
   "outputs": [],
   "source": [
    "stop"
   ]
  },
  {
   "cell_type": "markdown",
   "id": "4f4864d8",
   "metadata": {},
   "source": [
    "Rather than relying on characteristics of the players, we can also look other factors:"
   ]
  },
  {
   "cell_type": "code",
   "execution_count": null,
   "id": "335997ef",
   "metadata": {},
   "outputs": [],
   "source": [
    "all_castaways.head()"
   ]
  },
  {
   "cell_type": "markdown",
   "id": "a849e8fc",
   "metadata": {},
   "source": [
    "Standardize the age:"
   ]
  },
  {
   "cell_type": "code",
   "execution_count": null,
   "id": "c6897a73",
   "metadata": {},
   "outputs": [],
   "source": [
    "mean_age = all_castaways['age'].mean()\n",
    "std_age = all_castaways['age'].std()\n",
    "all_castaways['standardized_age'] = (all_castaways['age'] - mean_age) / std_age\n",
    "all_castaways"
   ]
  },
  {
   "cell_type": "markdown",
   "id": "c549d8ac",
   "metadata": {},
   "source": [
    "Calculate number of immunity idols won:"
   ]
  },
  {
   "cell_type": "code",
   "execution_count": null,
   "id": "dcec1614",
   "metadata": {},
   "outputs": [],
   "source": [
    "challenge_results['winners'].head(15)"
   ]
  },
  {
   "cell_type": "code",
   "execution_count": null,
   "id": "48b92deb",
   "metadata": {},
   "outputs": [],
   "source": [
    "for i, l in enumerate(challenge_results['winners'][:5]):\n",
    "    print(\"list\",i,\"is\",type(l))"
   ]
  },
  {
   "cell_type": "code",
   "execution_count": null,
   "id": "b77164db",
   "metadata": {},
   "outputs": [],
   "source": [
    "challenge_results['winners'][0]"
   ]
  },
  {
   "cell_type": "code",
   "execution_count": null,
   "id": "ff0accbf",
   "metadata": {},
   "outputs": [],
   "source": [
    "import re"
   ]
  },
  {
   "cell_type": "code",
   "execution_count": null,
   "id": "e681e8a0",
   "metadata": {},
   "outputs": [],
   "source": [
    "pattern = r'US\\d{4}'\n",
    "immunity_winners = []\n",
    "for i in range(challenge_results.shape[0]):\n",
    "    immunity_winners += re.findall(pattern, challenge_results['winners'][i])\n",
    "immunity_winners[:10]"
   ]
  },
  {
   "cell_type": "code",
   "execution_count": null,
   "id": "75cc5173",
   "metadata": {},
   "outputs": [],
   "source": [
    "immunity_counts = {}\n",
    "for i in immunity_winners:\n",
    "    if i in immunity_counts:\n",
    "        immunity_counts[i] += 1\n",
    "    else:\n",
    "        immunity_counts[i] = 1\n",
    "for i in all_castaways['castaway_id']:\n",
    "    if i not in immunity_counts:\n",
    "        immunity_counts[i] = 0\n",
    "immunity_counts"
   ]
  },
  {
   "cell_type": "code",
   "execution_count": null,
   "id": "ff8c8e94",
   "metadata": {},
   "outputs": [],
   "source": [
    "immunity_idols_won = pd.DataFrame(pd.Series(immunity_counts, name='immunity_idols_won'))\n",
    "immunity_idols_won"
   ]
  },
  {
   "cell_type": "code",
   "execution_count": null,
   "id": "baf10ab5",
   "metadata": {},
   "outputs": [],
   "source": [
    "all_castaways = all_castaways.merge(immunity_idols_won, left_on='castaway_id', right_index=True)\n",
    "all_castaways"
   ]
  },
  {
   "cell_type": "markdown",
   "id": "665dca78",
   "metadata": {},
   "source": [
    "Identify returning players:"
   ]
  },
  {
   "cell_type": "code",
   "execution_count": null,
   "id": "8384c8a2",
   "metadata": {},
   "outputs": [],
   "source": [
    "returning_player = {}\n",
    "for i in all_castaways['full_name']:\n",
    "    if i in returning_player:\n",
    "        returning_player[i] = 1\n",
    "    else:\n",
    "        returning_player[i] = 0\n",
    "returning_player"
   ]
  },
  {
   "cell_type": "markdown",
   "id": "195b0f3c",
   "metadata": {},
   "source": [
    "Identify jury members:"
   ]
  },
  {
   "cell_type": "code",
   "execution_count": null,
   "id": "9ff7905a",
   "metadata": {},
   "outputs": [],
   "source": [
    "def isNaN(string):\n",
    "    return string != string"
   ]
  },
  {
   "cell_type": "code",
   "execution_count": null,
   "id": "2aed1bb2",
   "metadata": {},
   "outputs": [],
   "source": [
    "all_castaways['jury_member'] = castaways['jury_status'].apply(lambda x: 0 if isNaN(x) else 1)\n",
    "all_castaways.head()"
   ]
  },
  {
   "cell_type": "markdown",
   "id": "97d78de1",
   "metadata": {},
   "source": [
    "Determine what players were on the same original/starting tribe as the winner:"
   ]
  },
  {
   "cell_type": "code",
   "execution_count": null,
   "id": "f9ba2194",
   "metadata": {},
   "outputs": [],
   "source": [
    "original_tribes = castaways[castaways['result'] == 'Sole Survivor']['original_tribe'].unique()\n",
    "original_tribes"
   ]
  },
  {
   "cell_type": "code",
   "execution_count": null,
   "id": "0df6770e",
   "metadata": {},
   "outputs": [],
   "source": [
    "all_castaways['same_original_tribe'] = castaways['original_tribe'].apply(lambda x: 1 if x in original_tribes else 0)\n",
    "all_castaways.head()"
   ]
  },
  {
   "cell_type": "markdown",
   "id": "cb302a2f",
   "metadata": {},
   "source": [
    "Get the similarities between voting history:"
   ]
  },
  {
   "cell_type": "code",
   "execution_count": null,
   "id": "621ccebc",
   "metadata": {},
   "outputs": [],
   "source": [
    "def Jaccard(s1, s2):\n",
    "    numer = len(s1.intersection(s2))\n",
    "    denom = len(s1.union(s2))\n",
    "    if denom > 0:\n",
    "        return numer/denom\n",
    "    return 0"
   ]
  },
  {
   "cell_type": "code",
   "execution_count": null,
   "id": "a1436ca3",
   "metadata": {},
   "outputs": [],
   "source": [
    "votes = vote_history[['season', 'castaway_id', 'castaway', 'vote_id', 'vote', 'split_vote', 'voted_out_id', 'voted_out', 'day']]\n",
    "votes"
   ]
  },
  {
   "cell_type": "code",
   "execution_count": null,
   "id": "e5ecc0ed",
   "metadata": {},
   "outputs": [],
   "source": [
    "winners = castaways[castaways['result'] == 'Sole Survivor'][['season', 'castaway_id']].set_index('season')\n",
    "winners.head()"
   ]
  },
  {
   "cell_type": "code",
   "execution_count": null,
   "id": "2e42b411",
   "metadata": {},
   "outputs": [],
   "source": [
    "castaways[castaways['season'] == 1]['castaway_id']"
   ]
  },
  {
   "cell_type": "code",
   "execution_count": null,
   "id": "9a44374d",
   "metadata": {},
   "outputs": [],
   "source": [
    "d = []"
   ]
  },
  {
   "cell_type": "code",
   "execution_count": null,
   "id": "a9285a75",
   "metadata": {},
   "outputs": [],
   "source": [
    "for season in winners.index:\n",
    "    cur_season = votes[votes['season'] == season]\n",
    "    winner_id = winners.loc[season].unique()[0]\n",
    "#     display(cur_season)\n",
    "#     day = cur_season['day'].unique()\n",
    "#     print(day)\n",
    "    cur_castaways = castaways[castaways['season'] == season]['castaway_id']\n",
    "    winner_votes = set(cur_season[cur_season['castaway_id'] == winner_id]['vote_id'])\n",
    "    #d.append([int(season), winner_id, 1])\n",
    "    for castaway in cur_castaways:\n",
    "#         if castaway == winner_id:\n",
    "#             continue\n",
    "        castaway_votes = set(cur_season[cur_season['castaway_id'] == castaway]['vote_id'])\n",
    "        d.append([int(season), castaway, Jaccard(winner_votes, castaway_votes)])\n",
    "        # d.append([castaway, Jaccard(winner_votes, castaway_votes)])"
   ]
  },
  {
   "cell_type": "code",
   "execution_count": null,
   "id": "50119884",
   "metadata": {},
   "outputs": [],
   "source": [
    "similarities = pd.DataFrame(np.array(d), columns=['season', 'id', 'similarity'])\n",
    "similarities['season'] = similarities['season'].astype(int)\n",
    "# similarities = pd.DataFrame(np.array(d), columns=['id', 'similarity'])\n",
    "similarities"
   ]
  },
  {
   "cell_type": "code",
   "execution_count": null,
   "id": "9e1dd73a",
   "metadata": {},
   "outputs": [],
   "source": [
    "# x = all_castaways[['castaway_id', 'season']].sort_values(by=['season', 'castaway_id']).reset_index(drop=True)\n",
    "# y = similarities[['id', 'season']].rename(columns={'id': 'castaway_id'}).sort_values(by=['season', 'castaway_id']).reset_index(drop=True)\n",
    "# x.compare(y)"
   ]
  },
  {
   "cell_type": "code",
   "execution_count": null,
   "id": "db6643f1",
   "metadata": {},
   "outputs": [],
   "source": [
    "# for i in range(x.shape[0]):\n",
    "#     print(x.loc[i]['castaway_id'], x.loc[i]['season'])"
   ]
  },
  {
   "cell_type": "code",
   "execution_count": null,
   "id": "16d3121c",
   "metadata": {},
   "outputs": [],
   "source": [
    "# z = temp[['castaway_id', 'season']].sort_values(by=['season', 'castaway_id']).reset_index(drop=True)\n",
    "# for i in range(z.shape[0]):\n",
    "#     print(z.loc[i]['castaway_id'], z.loc[i]['season'])"
   ]
  },
  {
   "cell_type": "code",
   "execution_count": null,
   "id": "e502bfe6",
   "metadata": {},
   "outputs": [],
   "source": [
    "all_castaways = all_castaways.merge(similarities, left_on=['castaway_id', 'season'], right_on=['id', 'season'], suffixes=('', '_remove')).drop_duplicates()\n",
    "all_castaways.drop([i for i in all_castaways.columns if 'remove' in i], axis=1, inplace=True)\n",
    "all_castaways.head()"
   ]
  },
  {
   "cell_type": "markdown",
   "id": "a9487bca",
   "metadata": {},
   "source": [
    "Get the times they were on the \"majority\" vote or voted correctly:"
   ]
  },
  {
   "cell_type": "code",
   "execution_count": null,
   "id": "92d64954",
   "metadata": {},
   "outputs": [],
   "source": [
    "vote_correct = []"
   ]
  },
  {
   "cell_type": "code",
   "execution_count": null,
   "id": "05273853",
   "metadata": {},
   "outputs": [],
   "source": [
    "for season in winners.index:\n",
    "    cur_season = votes[votes['season'] == season]\n",
    "    cur_castaways = castaways[castaways['season'] == season]['castaway_id']\n",
    "    correct_vote = cur_season[['day', 'voted_out_id']].set_index('day')\n",
    "    days = list(correct_vote.index.unique())\n",
    "    # print(season)\n",
    "    day_left = {}\n",
    "    for day in days:\n",
    "        day_left[day] = correct_vote.loc[day].voted_out_id.unique()[0]\n",
    "    # print(day_left)\n",
    "    for castaway in cur_castaways:\n",
    "        castaway_votes = cur_season[cur_season['castaway_id'] == castaway][['day', 'vote_id']]\n",
    "        # display(castaway_votes)\n",
    "        castaway_correct = 0\n",
    "        num_votes_made = castaway_votes.shape[0]\n",
    "        for i in range(num_votes_made):\n",
    "            day_vote = castaway_votes.iloc[i]\n",
    "            castaway_correct += day_left[day_vote['day']] == day_vote['vote_id']\n",
    "        if num_votes_made == 0:\n",
    "            prop_correct_votes = 0\n",
    "        else:\n",
    "            prop_correct_votes = castaway_correct / num_votes_made\n",
    "        # print(castaway_correct, num_votes_made)\n",
    "        vote_correct.append([int(season), castaway, prop_correct_votes])"
   ]
  },
  {
   "cell_type": "code",
   "execution_count": null,
   "id": "f7557f9c",
   "metadata": {},
   "outputs": [],
   "source": [
    "# right now haven't taken into account split votes"
   ]
  },
  {
   "cell_type": "code",
   "execution_count": null,
   "id": "02dbc14c",
   "metadata": {},
   "outputs": [],
   "source": [
    "vote_correct"
   ]
  },
  {
   "cell_type": "code",
   "execution_count": null,
   "id": "d5c7519a",
   "metadata": {},
   "outputs": [],
   "source": [
    "correct_votes = pd.DataFrame(np.array(d), columns=['season', 'id', 'perc_correct'])\n",
    "correct_votes['season'] = correct_votes['season'].astype(int)\n",
    "correct_votes"
   ]
  },
  {
   "cell_type": "code",
   "execution_count": null,
   "id": "33541173",
   "metadata": {},
   "outputs": [],
   "source": [
    "all_castaways = all_castaways.merge(correct_votes, left_on=['castaway_id', 'season'], right_on=['id', 'season'], suffixes=('', '_remove')).drop_duplicates()\n",
    "all_castaways.drop([i for i in all_castaways.columns if 'remove' in i], axis=1, inplace=True)\n",
    "all_castaways.head()"
   ]
  },
  {
   "cell_type": "markdown",
   "id": "74221df3",
   "metadata": {},
   "source": [
    "_________________"
   ]
  },
  {
   "cell_type": "code",
   "execution_count": null,
   "id": "cbe2aa2f",
   "metadata": {},
   "outputs": [],
   "source": [
    "abc"
   ]
  },
  {
   "cell_type": "code",
   "execution_count": null,
   "id": "692cda25",
   "metadata": {},
   "outputs": [],
   "source": []
  },
  {
   "cell_type": "code",
   "execution_count": null,
   "id": "b8c8fd7f",
   "metadata": {},
   "outputs": [],
   "source": []
  },
  {
   "cell_type": "code",
   "execution_count": null,
   "id": "8df98f88",
   "metadata": {},
   "outputs": [],
   "source": []
  },
  {
   "cell_type": "markdown",
   "id": "f31beab4",
   "metadata": {},
   "source": [
    "Try k-means clustering:  \n",
    "https://realpython.com/k-means-clustering-python/"
   ]
  },
  {
   "cell_type": "code",
   "execution_count": null,
   "id": "8810bdf4",
   "metadata": {},
   "outputs": [],
   "source": [
    "from sklearn.cluster import KMeans\n",
    "from sklearn.preprocessing import OneHotEncoder, StandardScaler"
   ]
  },
  {
   "cell_type": "code",
   "execution_count": null,
   "id": "02f34817",
   "metadata": {},
   "outputs": [],
   "source": [
    "all_castaways.columns"
   ]
  },
  {
   "cell_type": "code",
   "execution_count": null,
   "id": "83bd71b8",
   "metadata": {},
   "outputs": [],
   "source": [
    "nom_features = ['gender', 'poc', 'personality_type']\n",
    "quan_features = ['age', 'immunity_idols_won', 'same_original_tribe', 'similarity', 'perc_correct']"
   ]
  },
  {
   "cell_type": "code",
   "execution_count": null,
   "id": "d45755ce",
   "metadata": {},
   "outputs": [],
   "source": [
    "all_castaways['similarity'] = all_castaways['similarity'].astype(float)\n",
    "all_castaways['perc_correct'] = all_castaways['perc_correct'].astype(float)"
   ]
  },
  {
   "cell_type": "code",
   "execution_count": null,
   "id": "d244e970",
   "metadata": {},
   "outputs": [],
   "source": [
    "ohenc = OneHotEncoder(sparse=False)\n",
    "scaler = StandardScaler()\n",
    "ohenc_features = ohenc.fit_transform(all_castaways[nom_features])\n",
    "scaled_features = scaler.fit_transform(all_castaways[quan_features])\n",
    "processed_data = np.concatenate([scaled_features, ohenc_features], axis=1)\n",
    "processed_data"
   ]
  },
  {
   "cell_type": "code",
   "execution_count": null,
   "id": "770db6ec",
   "metadata": {},
   "outputs": [],
   "source": [
    "kmeans = KMeans(init=\"random\", n_clusters=4, n_init=10, max_iter=300)"
   ]
  },
  {
   "cell_type": "code",
   "execution_count": null,
   "id": "5cedb20b",
   "metadata": {},
   "outputs": [],
   "source": [
    "kmeans.fit(processed_data)"
   ]
  },
  {
   "cell_type": "code",
   "execution_count": null,
   "id": "03021aa1",
   "metadata": {},
   "outputs": [],
   "source": []
  },
  {
   "cell_type": "code",
   "execution_count": null,
   "id": "a9dc8ad2",
   "metadata": {},
   "outputs": [],
   "source": []
  },
  {
   "cell_type": "code",
   "execution_count": null,
   "id": "0a437c12",
   "metadata": {},
   "outputs": [],
   "source": [
    "from sklearn.decomposition import PCA\n",
    "from sklearn.metrics import silhouette_score, adjusted_rand_score\n",
    "from sklearn.preprocessing import LabelEncoder"
   ]
  },
  {
   "cell_type": "code",
   "execution_count": null,
   "id": "15d1e315",
   "metadata": {},
   "outputs": [],
   "source": [
    "X = all_castaways[['gender', 'poc', 'personality_type', 'age', 'immunity_idols_won', 'same_original_tribe', 'similarity', 'perc_correct']]\n",
    "y = all_castaways['result']"
   ]
  },
  {
   "cell_type": "code",
   "execution_count": null,
   "id": "0c974afb",
   "metadata": {},
   "outputs": [],
   "source": [
    "label_encoder = LabelEncoder()\n",
    "true_labels = label_encoder.fit_transform(y)"
   ]
  },
  {
   "cell_type": "code",
   "execution_count": null,
   "id": "4e27ad70",
   "metadata": {},
   "outputs": [],
   "source": [
    "preprocessor = Pipeline(\n",
    "            [\n",
    "                (\"scaler\", StandardScaler()),\n",
    "                (\"pca\", PCA(n_components=2)),\n",
    "            ]\n",
    "        )"
   ]
  },
  {
   "cell_type": "code",
   "execution_count": null,
   "id": "6ce2887b",
   "metadata": {},
   "outputs": [],
   "source": [
    "clusterer = Pipeline(\n",
    "            [\n",
    "                (\n",
    "                    \"kmeans\",\n",
    "                    KMeans(\n",
    "                        n_clusters=2,\n",
    "                        init=\"k-means++\",\n",
    "                        n_init=50,\n",
    "                        max_iter=500\n",
    "                    )\n",
    "                )\n",
    "            ]\n",
    "        )"
   ]
  },
  {
   "cell_type": "code",
   "execution_count": null,
   "id": "736ca041",
   "metadata": {},
   "outputs": [],
   "source": [
    "pipe = Pipeline(\n",
    "    [\n",
    "        (\"preprocessor\", preprocessor),\n",
    "        (\"clusterer\", clusterer)\n",
    "    ]\n",
    ")"
   ]
  },
  {
   "cell_type": "code",
   "execution_count": null,
   "id": "06b1c2db",
   "metadata": {},
   "outputs": [],
   "source": [
    "pipe.fit(processed_data)"
   ]
  },
  {
   "cell_type": "code",
   "execution_count": null,
   "id": "c047088c",
   "metadata": {},
   "outputs": [],
   "source": [
    "preprocessed_data = pipe[\"preprocessor\"].transform(processed_data)"
   ]
  },
  {
   "cell_type": "code",
   "execution_count": null,
   "id": "365a1eb4",
   "metadata": {},
   "outputs": [],
   "source": [
    "predicted_labels = pipe[\"clusterer\"][\"kmeans\"].labels_"
   ]
  },
  {
   "cell_type": "code",
   "execution_count": null,
   "id": "f7eb2bb0",
   "metadata": {},
   "outputs": [],
   "source": [
    "silhouette_score(preprocessed_data, predicted_labels)"
   ]
  },
  {
   "cell_type": "code",
   "execution_count": null,
   "id": "8cfcf62d",
   "metadata": {},
   "outputs": [],
   "source": [
    "adjusted_rand_score(y, predicted_labels)"
   ]
  },
  {
   "cell_type": "code",
   "execution_count": null,
   "id": "7f8b2df7",
   "metadata": {},
   "outputs": [],
   "source": [
    "pcadf = pd.DataFrame(\n",
    "            pipe[\"preprocessor\"].transform(processed_data),\n",
    "            columns=[\"component_1\", \"component_2\"],\n",
    "        )\n",
    "pcadf[\"predicted_cluster\"] = pipe[\"clusterer\"][\"kmeans\"].labels_\n",
    "pcadf[\"true_label\"] = label_encoder.inverse_transform(true_labels)"
   ]
  },
  {
   "cell_type": "code",
   "execution_count": null,
   "id": "dbc493c4",
   "metadata": {},
   "outputs": [],
   "source": [
    "plt.style.use(\"fivethirtyeight\")\n",
    "plt.figure(figsize=(8, 8))\n",
    "scat = sns.scatterplot(\n",
    "    \"component_1\",\n",
    "    \"component_2\",\n",
    "    s=50,\n",
    "    data=pcadf,\n",
    "    hue=\"predicted_cluster\",\n",
    "    style=\"true_label\",\n",
    "    palette=\"Set2\",\n",
    ")\n",
    "\n",
    "scat.set_title(\"Clustering results\")\n",
    "plt.legend(bbox_to_anchor=(1.05, 1), loc=2, borderaxespad=0.0)\n",
    "plt.show()"
   ]
  },
  {
   "cell_type": "code",
   "execution_count": null,
   "id": "2cd1e24f",
   "metadata": {},
   "outputs": [],
   "source": []
  },
  {
   "cell_type": "code",
   "execution_count": null,
   "id": "4f886765",
   "metadata": {},
   "outputs": [],
   "source": [
    "# preproc = ColumnTransformer([\n",
    "#     ('one-hot', OneHotEncoder(handle_unknown='ignore'), nom_features),\n",
    "#     ('scale', StandardScaler(), quan_features)\n",
    "# ], remainder='passthrough')"
   ]
  },
  {
   "cell_type": "code",
   "execution_count": null,
   "id": "a78d5c31",
   "metadata": {},
   "outputs": [],
   "source": [
    "# pl = Pipeline([\n",
    "#     ('preprocessing', preproc),\n",
    "#     ('model', KMeans(n_clusters=4, n_init=\"auto\"))\n",
    "# ])"
   ]
  },
  {
   "cell_type": "code",
   "execution_count": null,
   "id": "097a3fe6",
   "metadata": {},
   "outputs": [],
   "source": [
    "pl.fit(X, y)"
   ]
  },
  {
   "cell_type": "code",
   "execution_count": null,
   "id": "616a2798",
   "metadata": {},
   "outputs": [],
   "source": [
    "kmeans = KMeans(n_clusters=4, n_init=\"auto\").fit(X)"
   ]
  },
  {
   "cell_type": "code",
   "execution_count": null,
   "id": "c197b8dd",
   "metadata": {},
   "outputs": [],
   "source": []
  },
  {
   "cell_type": "code",
   "execution_count": null,
   "id": "bedbd39f",
   "metadata": {},
   "outputs": [],
   "source": []
  },
  {
   "cell_type": "markdown",
   "id": "af6fa926",
   "metadata": {},
   "source": [
    "_____________________________"
   ]
  },
  {
   "cell_type": "markdown",
   "id": "85310147",
   "metadata": {},
   "source": [
    "Let's try partial_fit to train the classifier on every season separately."
   ]
  },
  {
   "cell_type": "code",
   "execution_count": null,
   "id": "e69e9643",
   "metadata": {},
   "outputs": [],
   "source": [
    "season_df = []\n",
    "for i in sorted(all_castaways['season'].unique()):\n",
    "    season_df.append(all_castaways[all_castaways['season'] == i])"
   ]
  },
  {
   "cell_type": "code",
   "execution_count": null,
   "id": "7a45839c",
   "metadata": {
    "scrolled": true
   },
   "outputs": [],
   "source": [
    "for df in season_df:\n",
    "    df['gender'] = df['gender'].apply(lambda x: 1 if x=='Male' else 2 if x=='Female' else 0)\n",
    "    df['poc'] = df['poc'].apply(lambda x: 0 if x=='White' else 1)\n",
    "    df['personality_type'] = df['personality_type'].apply(lambda x: 0 if x=='INFJ' else 1 if x=='ESTP' else 2 if x=='ENTP'\n",
    "                                                         else 3 if x=='INTJ' else 4 if x=='ENFJ' else 5 if x=='ISTP'\n",
    "                                                         else 6 if x=='ESTJ' else 7 if x=='INTP' else 8 if x=='ESFP'\n",
    "                                                         else 9 if x=='ENFP' else 10 if x=='ISFP' else 11 if x=='ENTJ'\n",
    "                                                         else 12 if x=='ISFJ' else 13 if x=='ESFJ' else 14 if x=='ISTJ'\n",
    "                                                         else 15)"
   ]
  },
  {
   "cell_type": "code",
   "execution_count": null,
   "id": "2cffb6da",
   "metadata": {},
   "outputs": [],
   "source": [
    "for df in season_df:\n",
    "    display(df)"
   ]
  },
  {
   "cell_type": "code",
   "execution_count": null,
   "id": "dd744a34",
   "metadata": {},
   "outputs": [],
   "source": [
    "classifier = MLPClassifier()"
   ]
  },
  {
   "cell_type": "code",
   "execution_count": null,
   "id": "99287fb8",
   "metadata": {},
   "outputs": [],
   "source": [
    "classes = np.unique(season_df[0]['result'])\n",
    "for i in range(len(season_df)-1):\n",
    "    classifier.partial_fit(season_df[i][['gender', 'poc', 'personality_type', 'age']], season_df[i]['result'], classes=classes)"
   ]
  },
  {
   "cell_type": "code",
   "execution_count": null,
   "id": "a1d461fe",
   "metadata": {},
   "outputs": [],
   "source": [
    "preds = []\n",
    "#for i in range(len(season_df)):\n",
    "pred = classifier.predict(season_df[len(season_df)-1][['gender', 'poc', 'personality_type', 'age']])\n",
    "#    preds.extend(pred.tolist())"
   ]
  },
  {
   "cell_type": "code",
   "execution_count": null,
   "id": "274c22b3",
   "metadata": {},
   "outputs": [],
   "source": []
  },
  {
   "cell_type": "code",
   "execution_count": null,
   "id": "77f64a9d",
   "metadata": {},
   "outputs": [],
   "source": []
  },
  {
   "cell_type": "markdown",
   "id": "c4bb36e8",
   "metadata": {},
   "source": [
    "Since using partial_fit also does not seem to change the model only predicting 0s, let's try splitting the data into winners and losers and randomly redistributing them in equal amounts to the training and testing set so we have a more balanced dataset."
   ]
  },
  {
   "cell_type": "code",
   "execution_count": null,
   "id": "f460f174",
   "metadata": {},
   "outputs": [],
   "source": [
    "winners = all_castaways[all_castaways['result'] == 1]\n",
    "losers = all_castaways[all_castaways['result'] == 0]\n",
    "display(winners.head()), display(losers.head())"
   ]
  },
  {
   "cell_type": "code",
   "execution_count": null,
   "id": "5c790ea0",
   "metadata": {},
   "outputs": [],
   "source": [
    "num_winners = winners.shape[0]\n",
    "num_winners"
   ]
  },
  {
   "cell_type": "code",
   "execution_count": null,
   "id": "02e0981b",
   "metadata": {},
   "outputs": [],
   "source": [
    "sample_size = int(num_winners*0.8)\n",
    "sample_size"
   ]
  },
  {
   "cell_type": "code",
   "execution_count": null,
   "id": "bd1820b4",
   "metadata": {},
   "outputs": [],
   "source": [
    "winners_train = winners.sample(n=sample_size)\n",
    "losers_train = losers.sample(n=sample_size)\n",
    "train_df = pd.concat([winners_train,losers_train])\n",
    "train_df.head()"
   ]
  },
  {
   "cell_type": "code",
   "execution_count": null,
   "id": "c04ac52d",
   "metadata": {},
   "outputs": [],
   "source": [
    "winners_test = pd.concat([winners_train,winners]).drop_duplicates(keep=False)\n",
    "losers_test = pd.concat([losers_train,losers]).drop_duplicates(keep=False).sample(10)\n",
    "test_df = pd.concat([winners_test,losers_test])\n",
    "test_df.head()"
   ]
  },
  {
   "cell_type": "code",
   "execution_count": null,
   "id": "6ae14ad9",
   "metadata": {},
   "outputs": [],
   "source": [
    "nom_features = ['personality_type', 'gender', 'poc']\n",
    "quan_features = ['age']"
   ]
  },
  {
   "cell_type": "code",
   "execution_count": null,
   "id": "e69b5cb9",
   "metadata": {},
   "outputs": [],
   "source": [
    "preproc = ColumnTransformer([\n",
    "    ('one-hot', OneHotEncoder(handle_unknown='ignore'), nom_features),\n",
    "    ('scale', StandardScaler(), quan_features)\n",
    "], remainder='passthrough')"
   ]
  },
  {
   "cell_type": "code",
   "execution_count": null,
   "id": "198b591e",
   "metadata": {},
   "outputs": [],
   "source": [
    "pl = Pipeline([\n",
    "    ('preprocessing', preproc),\n",
    "    ('model', DecisionTreeClassifier(max_depth=5, criterion='gini'))\n",
    "])"
   ]
  },
  {
   "cell_type": "code",
   "execution_count": null,
   "id": "2c50d90e",
   "metadata": {},
   "outputs": [],
   "source": [
    "pl.fit(train_df[['personality_type', 'gender', 'poc', 'age']], train_df[['result']])"
   ]
  },
  {
   "cell_type": "code",
   "execution_count": null,
   "id": "c15771d3",
   "metadata": {},
   "outputs": [],
   "source": [
    "test_score = accuracy_score(test_df[['result']], pl.predict(test_df[['personality_type', 'gender', 'poc', 'age']]))\n",
    "test_score"
   ]
  },
  {
   "cell_type": "markdown",
   "id": "498a5201",
   "metadata": {},
   "source": [
    "Now let's do it multiple iterations to get an average accuracy score."
   ]
  },
  {
   "cell_type": "code",
   "execution_count": null,
   "id": "9300a699",
   "metadata": {},
   "outputs": [],
   "source": [
    "def eq_win_lose(model):\n",
    "    nom_features = ['personality_type', 'gender', 'poc']\n",
    "    quan_features = ['age']\n",
    "    preproc = ColumnTransformer([\n",
    "        ('one-hot', OneHotEncoder(handle_unknown='ignore'), nom_features),\n",
    "        ('scale', StandardScaler(), quan_features)\n",
    "    ], remainder='passthrough')\n",
    "    \n",
    "    scores = []\n",
    "    errors = []\n",
    "    n_iterations = 100\n",
    "    for i in range(n_iterations):\n",
    "        winners_train = winners.sample(n=sample_size)\n",
    "        losers_train = losers.sample(n=sample_size)\n",
    "        train_df = pd.concat([winners_train,losers_train])\n",
    "        winners_test = pd.concat([winners_train,winners]).drop_duplicates(keep=False)\n",
    "        losers_test = pd.concat([losers_train,losers]).drop_duplicates(keep=False).sample(10)\n",
    "        test_df = pd.concat([winners_test,losers_test])\n",
    "        X_train = train_df[['personality_type', 'gender', 'poc', 'age']]\n",
    "        y_train = train_df[['result']]\n",
    "        pl = Pipeline([\n",
    "            ('preprocessing', preproc),\n",
    "            ('model', model)\n",
    "        ])\n",
    "        pl.fit(X_train, y_train.values.ravel())\n",
    "        X_test = test_df[['personality_type', 'gender', 'poc', 'age']]\n",
    "        y_test = test_df[['result']]\n",
    "        test_score = accuracy_score(y_test.values.ravel(), pl.predict(X_test))\n",
    "        scores.append(test_score)\n",
    "        errs = cross_val_score(pl, X_train, y_train.values.ravel(), cv=5, scoring='accuracy')\n",
    "        errors.append(np.mean(errs))\n",
    "    \n",
    "    return scores, errors"
   ]
  },
  {
   "cell_type": "code",
   "execution_count": null,
   "id": "58707007",
   "metadata": {},
   "outputs": [],
   "source": [
    "scores, errors = eq_win_lose(DecisionTreeClassifier(max_depth=5, criterion='gini'))"
   ]
  },
  {
   "cell_type": "code",
   "execution_count": null,
   "id": "a81099cf",
   "metadata": {},
   "outputs": [],
   "source": [
    "np.mean(scores), np.median(scores)"
   ]
  },
  {
   "cell_type": "code",
   "execution_count": null,
   "id": "f92b98c8",
   "metadata": {},
   "outputs": [],
   "source": [
    "np.mean(errors)"
   ]
  },
  {
   "cell_type": "markdown",
   "id": "12d1b34f",
   "metadata": {},
   "source": [
    "This does not have a very good accuracy -- about 0.5."
   ]
  },
  {
   "cell_type": "markdown",
   "id": "278fd288",
   "metadata": {},
   "source": [
    "Let's test a bunch of different classification models with different parameters to see if we can find the optimal one."
   ]
  },
  {
   "cell_type": "markdown",
   "id": "9a5cfbf6",
   "metadata": {},
   "source": [
    "Here are the classifiers we will be looking at:\n",
    "- DecisionTreeClassifier\n",
    "- SVC\n",
    "- BernoulliNB\n",
    "- MLPClassifier\n",
    "- KNearestNeighbors\n",
    "- RandomForestClassifier"
   ]
  },
  {
   "cell_type": "markdown",
   "id": "b53b6151",
   "metadata": {},
   "source": [
    "Decision Tree Classifier"
   ]
  },
  {
   "cell_type": "code",
   "execution_count": null,
   "id": "6102bdd0",
   "metadata": {},
   "outputs": [],
   "source": [
    "tree_params = {'criterion': ['gini','entropy'], 'max_depth': [3, 5, 10, 20]}\n",
    "tree_acc = pd.DataFrame()\n",
    "\n",
    "for param1 in tree_params['max_depth']:\n",
    "    temp_list = []\n",
    "    for param2 in tree_params['criterion']:\n",
    "        model = DecisionTreeClassifier(max_depth=param1, criterion=param2)\n",
    "        scores, errors = eq_win_lose(model)\n",
    "        temp_list.append(np.mean(errors))\n",
    "    tree_acc[param1] = temp_list\n",
    "    \n",
    "tree_acc.index = tree_params['criterion']\n",
    "tree_acc.index = ['criterion_' + str(i) for i in tree_acc.index]\n",
    "tree_acc.columns = ['max_depth_' + str(i) for i in tree_acc.columns]\n",
    "tree_acc"
   ]
  },
  {
   "cell_type": "code",
   "execution_count": null,
   "id": "cc7d1090",
   "metadata": {},
   "outputs": [],
   "source": [
    "tree_param1 = tree_acc.max().idxmax()\n",
    "tree_param2 = tree_acc.max(axis=1).idxmax()\n",
    "print(\"Best Parameters: \" + str([tree_param1, tree_param2]))"
   ]
  },
  {
   "cell_type": "markdown",
   "id": "dcc96585",
   "metadata": {},
   "source": [
    "SVC"
   ]
  },
  {
   "cell_type": "code",
   "execution_count": null,
   "id": "eb524d4d",
   "metadata": {},
   "outputs": [],
   "source": [
    "svc_params = {'kernel': ['linear', 'poly', 'rbf', 'sigmoid'], 'gamma': ['scale', 'auto']}\n",
    "svc_acc = pd.DataFrame()\n",
    "\n",
    "for param1 in svc_params['kernel']:\n",
    "    temp_list = []\n",
    "    for param2 in svc_params['gamma']:\n",
    "        model = SVC(kernel=param1, gamma=param2)\n",
    "        scores, errors = eq_win_lose(model)\n",
    "        temp_list.append(np.mean(errors))\n",
    "    svc_acc[param1] = temp_list\n",
    "    \n",
    "svc_acc.index = svc_params['gamma']\n",
    "svc_acc.index = ['gamma_' + str(i) for i in svc_acc.index]\n",
    "svc_acc.columns = ['kernel_' + str(i) for i in svc_acc.columns]\n",
    "svc_acc"
   ]
  },
  {
   "cell_type": "code",
   "execution_count": null,
   "id": "c351a996",
   "metadata": {},
   "outputs": [],
   "source": [
    "svc_param1 = svc_acc.max().idxmax()\n",
    "svc_param2 = svc_acc.max(axis=1).idxmax()\n",
    "print(\"Best Parameters: \" + str([svc_param1, svc_param2]))"
   ]
  },
  {
   "cell_type": "markdown",
   "id": "c7019955",
   "metadata": {},
   "source": [
    "BernoulliNB"
   ]
  },
  {
   "cell_type": "code",
   "execution_count": null,
   "id": "79d94702",
   "metadata": {},
   "outputs": [],
   "source": [
    "scores, errors = eq_win_lose(BernoulliNB())\n",
    "np.mean(errors)"
   ]
  },
  {
   "cell_type": "markdown",
   "id": "cf3f9b7c",
   "metadata": {},
   "source": [
    "MLP Classifier"
   ]
  },
  {
   "cell_type": "code",
   "execution_count": null,
   "id": "b5360c30",
   "metadata": {
    "scrolled": true
   },
   "outputs": [],
   "source": [
    "# mlp_params = {'activation': ['identity', 'logistic', 'tanh', 'relu'], 'solver': ['lbfgs', 'sgd', 'adam']}\n",
    "# mlp_acc = pd.DataFrame()\n",
    "\n",
    "# for param1 in mlp_params['activation']:\n",
    "#     temp_list = []\n",
    "#     for param2 in mlp_params['solver']:\n",
    "#         model = MLPClassifier(activation=param1, solver=param2)\n",
    "#         scores, errors = eq_win_lose(model)\n",
    "#         temp_list.append(np.mean(errors))\n",
    "#     mlp_acc[param1] = temp_list\n",
    "    \n",
    "# mlp_acc.index = mlp_params['solver']\n",
    "# mlp_acc.index = ['solver_' + str(i) for i in mlp_acc.index]\n",
    "# mlp_acc.columns = ['activation_' + str(i) for i in mlp_acc.columns]\n",
    "# mlp_acc"
   ]
  },
  {
   "cell_type": "code",
   "execution_count": null,
   "id": "2f801c11",
   "metadata": {},
   "outputs": [],
   "source": [
    "# param_grid = [\n",
    "#         {\n",
    "#             'activation' : ['identity', 'logistic', 'tanh', 'relu'],\n",
    "#             'solver' : ['lbfgs', 'sgd', 'adam'],\n",
    "#             'hidden_layer_sizes': [\n",
    "#              (1,),(2,),(3,),(4,),(5,),(6,),(7,),(8,),(9,),(10,),(11,), (12,),(13,),(14,),(15,),(16,),(17,),(18,),(19,),(20,),(21,)\n",
    "#              ]\n",
    "#         }\n",
    "#        ]\n",
    "# clf = GridSearchCV(MLPClassifier(), param_grid, cv=3,\n",
    "#                            scoring='accuracy')\n",
    "# clf.fit(X_train,y_train)\n",
    "\n",
    "\n",
    "# print(\"Best parameters set found on development set:\")\n",
    "# print(clf.best_params_)"
   ]
  },
  {
   "cell_type": "code",
   "execution_count": null,
   "id": "9d313d2a",
   "metadata": {},
   "outputs": [],
   "source": [
    "# mlp_param1 = mlp_acc.max().idxmax()\n",
    "# mlp_param2 = mlp_acc.max(axis=1).idxmax()\n",
    "# print(\"Best Parameters: \" + str([mlp_param1, mlp_param2]))"
   ]
  },
  {
   "cell_type": "markdown",
   "id": "1ffdd658",
   "metadata": {},
   "source": [
    "K Nearest Neighbors Classifier"
   ]
  },
  {
   "cell_type": "code",
   "execution_count": null,
   "id": "80ca5e06",
   "metadata": {},
   "outputs": [],
   "source": [
    "knn_params = {'n_neighbors': [1, 2, 5, 10, 20], 'leaf_size': [20, 30, 50]}\n",
    "knn_acc = pd.DataFrame()\n",
    "\n",
    "for param1 in knn_params['n_neighbors']:\n",
    "    temp_list = []\n",
    "    for param2 in knn_params['leaf_size']:\n",
    "        model = KNeighborsClassifier(n_neighbors=param1, leaf_size=param2)\n",
    "        scores, errors = eq_win_lose(model)\n",
    "        temp_list.append(np.mean(errors))\n",
    "    knn_acc[param1] = temp_list\n",
    "    \n",
    "knn_acc.index = knn_params['leaf_size']\n",
    "knn_acc.index = ['leaf_size_' + str(i) for i in knn_acc.index]\n",
    "knn_acc.columns = ['n_neighbors_' + str(i) for i in knn_acc.columns]\n",
    "knn_acc"
   ]
  },
  {
   "cell_type": "code",
   "execution_count": null,
   "id": "11ae6d5a",
   "metadata": {},
   "outputs": [],
   "source": [
    "knn_param1 = knn_acc.max().idxmax()\n",
    "knn_param2 = knn_acc.max(axis=1).idxmax()\n",
    "print(\"Best Parameters: \" + str([knn_param1, knn_param2]))"
   ]
  },
  {
   "cell_type": "markdown",
   "id": "6dc00da0",
   "metadata": {},
   "source": [
    "Random Forest Classifier"
   ]
  },
  {
   "cell_type": "code",
   "execution_count": null,
   "id": "e22ef021",
   "metadata": {},
   "outputs": [],
   "source": [
    "forest_params = {'n_estimators': [50, 100, 200, 300], 'max_depth': [2, 4, 5, 10]}\n",
    "forest_acc = pd.DataFrame()\n",
    "\n",
    "for param1 in forest_params['n_estimators']:\n",
    "    temp_list = []\n",
    "    for param2 in forest_params['max_depth']:\n",
    "        model = RandomForestClassifier(n_estimators=param1, max_depth=param2)\n",
    "        scores, errors = eq_win_lose(model)\n",
    "        temp_list.append(np.mean(errors))\n",
    "    forest_acc[param1] = temp_list\n",
    "    \n",
    "forest_acc.index = forest_params['max_depth']\n",
    "forest_acc.index = ['max_depth_' + str(i) for i in forest_acc.index]\n",
    "forest_acc.columns = ['n_estimators_' + str(i) for i in forest_acc.columns]\n",
    "forest_acc"
   ]
  },
  {
   "cell_type": "code",
   "execution_count": null,
   "id": "373df446",
   "metadata": {},
   "outputs": [],
   "source": [
    "forest_param1 = forest_acc.max().idxmax()\n",
    "forest_param2 = forest_acc.max(axis=1).idxmax()\n",
    "print(\"Best Parameters: \" + str([forest_param1, forest_param2]))"
   ]
  },
  {
   "cell_type": "markdown",
   "id": "301f1643",
   "metadata": {},
   "source": [
    "__________________________"
   ]
  },
  {
   "cell_type": "markdown",
   "id": "290b79bd",
   "metadata": {},
   "source": [
    "___________________________"
   ]
  },
  {
   "cell_type": "code",
   "execution_count": null,
   "id": "7a580f48",
   "metadata": {},
   "outputs": [],
   "source": []
  },
  {
   "cell_type": "code",
   "execution_count": null,
   "id": "9b2ed72c",
   "metadata": {},
   "outputs": [],
   "source": []
  },
  {
   "cell_type": "code",
   "execution_count": null,
   "id": "1a660303",
   "metadata": {},
   "outputs": [],
   "source": []
  },
  {
   "cell_type": "code",
   "execution_count": null,
   "id": "b76d40e5",
   "metadata": {},
   "outputs": [],
   "source": []
  },
  {
   "cell_type": "code",
   "execution_count": null,
   "id": "ced27f55",
   "metadata": {},
   "outputs": [],
   "source": []
  },
  {
   "cell_type": "code",
   "execution_count": null,
   "id": "9321f9c2",
   "metadata": {},
   "outputs": [],
   "source": []
  },
  {
   "cell_type": "code",
   "execution_count": null,
   "id": "4764afbc",
   "metadata": {},
   "outputs": [],
   "source": []
  },
  {
   "cell_type": "code",
   "execution_count": null,
   "id": "35fb7d7f",
   "metadata": {},
   "outputs": [],
   "source": []
  },
  {
   "cell_type": "code",
   "execution_count": null,
   "id": "e7aac7cc",
   "metadata": {},
   "outputs": [],
   "source": []
  },
  {
   "cell_type": "code",
   "execution_count": null,
   "id": "631ee026",
   "metadata": {},
   "outputs": [],
   "source": []
  },
  {
   "cell_type": "code",
   "execution_count": null,
   "id": "dbe5c069",
   "metadata": {},
   "outputs": [],
   "source": []
  },
  {
   "cell_type": "markdown",
   "id": "355a04a1",
   "metadata": {},
   "source": [
    "We can see that for both the training and testing sets, the model is about the same accuracy as predicting all 0s. Therefore, it is not a good model. GridSearchCV will be used to identify the optimal classification method and parameters."
   ]
  },
  {
   "cell_type": "code",
   "execution_count": null,
   "id": "0cb8d837",
   "metadata": {},
   "outputs": [],
   "source": [
    "# tree_params = {'criterion': ['gini','entropy'], 'max_depth': [5, 10, 15, 20]}\n",
    "# clf = GridSearchCV(DecisionTreeClassifier(), tree_params, cv=5, scoring='accuracy')\n",
    "# clf.fit(features, label)"
   ]
  },
  {
   "cell_type": "code",
   "execution_count": null,
   "id": "6321c3dd",
   "metadata": {},
   "outputs": [],
   "source": []
  },
  {
   "cell_type": "code",
   "execution_count": null,
   "id": "bfe6d4ac",
   "metadata": {},
   "outputs": [],
   "source": []
  },
  {
   "cell_type": "code",
   "execution_count": null,
   "id": "4226304a",
   "metadata": {},
   "outputs": [],
   "source": []
  },
  {
   "cell_type": "code",
   "execution_count": null,
   "id": "5dc3580b",
   "metadata": {},
   "outputs": [],
   "source": []
  },
  {
   "cell_type": "code",
   "execution_count": null,
   "id": "ed5909c9",
   "metadata": {},
   "outputs": [],
   "source": []
  },
  {
   "cell_type": "code",
   "execution_count": null,
   "id": "3da3e638",
   "metadata": {},
   "outputs": [],
   "source": []
  },
  {
   "cell_type": "code",
   "execution_count": null,
   "id": "2f72b637",
   "metadata": {},
   "outputs": [],
   "source": []
  },
  {
   "cell_type": "code",
   "execution_count": null,
   "id": "308d45b0",
   "metadata": {},
   "outputs": [],
   "source": []
  },
  {
   "cell_type": "code",
   "execution_count": null,
   "id": "acd17ebc",
   "metadata": {},
   "outputs": [],
   "source": []
  },
  {
   "cell_type": "code",
   "execution_count": null,
   "id": "5cab2df9",
   "metadata": {},
   "outputs": [],
   "source": []
  }
 ],
 "metadata": {
  "kernelspec": {
   "display_name": "Python 3 (ipykernel)",
   "language": "python",
   "name": "python3"
  },
  "language_info": {
   "codemirror_mode": {
    "name": "ipython",
    "version": 3
   },
   "file_extension": ".py",
   "mimetype": "text/x-python",
   "name": "python",
   "nbconvert_exporter": "python",
   "pygments_lexer": "ipython3",
   "version": "3.9.13"
  }
 },
 "nbformat": 4,
 "nbformat_minor": 5
}
